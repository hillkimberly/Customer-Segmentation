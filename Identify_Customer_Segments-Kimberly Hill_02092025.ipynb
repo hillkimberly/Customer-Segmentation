{
 "cells": [
  {
   "cell_type": "markdown",
   "metadata": {},
   "source": [
    "### Prerequsite - Upgrade Scikit Learn\n",
    "The current workspace has scikit-learn v0.19.1 installed. However, you can upgrade scikit-learn to 0.24.x. and use this [OneHotEncoder](https://scikit-learn.org/0.21/modules/generated/sklearn.preprocessing.OneHotEncoder.html) library. \n"
   ]
  },
  {
   "cell_type": "code",
   "execution_count": 2,
   "metadata": {},
   "outputs": [
    {
     "name": "stdout",
     "output_type": "stream",
     "text": [
      "The scikit-learn version is 0.19.1.\n"
     ]
    }
   ],
   "source": [
    "import sklearn\n",
    "print('The scikit-learn version is {}.'.format(sklearn.__version__))"
   ]
  },
  {
   "cell_type": "code",
   "execution_count": 3,
   "metadata": {},
   "outputs": [],
   "source": [
    "import os\n",
    "os.environ['PATH'] = f\"{os.environ['PATH']}:/root/.local/bin\""
   ]
  },
  {
   "cell_type": "raw",
   "metadata": {},
   "source": [
    "Restart the Kernel. "
   ]
  },
  {
   "cell_type": "code",
   "execution_count": 1,
   "metadata": {},
   "outputs": [
    {
     "name": "stdout",
     "output_type": "stream",
     "text": [
      "Collecting scikit-learn\n",
      "\u001b[?25l  Downloading https://files.pythonhosted.org/packages/f5/ef/bcd79e8d59250d6e8478eb1290dc6e05be42b3be8a86e3954146adbc171a/scikit_learn-0.24.2-cp36-cp36m-manylinux1_x86_64.whl (20.0MB)\n",
      "\u001b[K    100% |████████████████████████████████| 20.0MB 1.4MB/s eta 0:00:01\n",
      "\u001b[?25hRequirement already satisfied, skipping upgrade: joblib>=0.11 in /opt/conda/lib/python3.6/site-packages (from scikit-learn) (0.11)\n",
      "Collecting threadpoolctl>=2.0.0 (from scikit-learn)\n",
      "  Downloading https://files.pythonhosted.org/packages/61/cf/6e354304bcb9c6413c4e02a747b600061c21d38ba51e7e544ac7bc66aecc/threadpoolctl-3.1.0-py3-none-any.whl\n",
      "Collecting numpy>=1.13.3 (from scikit-learn)\n",
      "\u001b[?25l  Downloading https://files.pythonhosted.org/packages/45/b2/6c7545bb7a38754d63048c7696804a0d947328125d81bf12beaa692c3ae3/numpy-1.19.5-cp36-cp36m-manylinux1_x86_64.whl (13.4MB)\n",
      "\u001b[K    100% |████████████████████████████████| 13.4MB 2.5MB/s eta 0:00:01\n",
      "\u001b[?25hRequirement already satisfied, skipping upgrade: scipy>=0.19.1 in /opt/conda/lib/python3.6/site-packages (from scikit-learn) (1.2.1)\n",
      "\u001b[31mtensorflow 1.3.0 requires tensorflow-tensorboard<0.2.0,>=0.1.0, which is not installed.\u001b[0m\n",
      "Installing collected packages: threadpoolctl, numpy, scikit-learn\n",
      "  Found existing installation: numpy 1.12.1\n",
      "    Uninstalling numpy-1.12.1:\n",
      "      Successfully uninstalled numpy-1.12.1\n",
      "  Found existing installation: scikit-learn 0.19.1\n",
      "    Uninstalling scikit-learn-0.19.1:\n",
      "      Successfully uninstalled scikit-learn-0.19.1\n",
      "Successfully installed numpy-1.19.5 scikit-learn-0.24.2 threadpoolctl-3.1.0\n",
      "The scikit-learn version is 0.24.2.\n"
     ]
    }
   ],
   "source": [
    "!python -m pip install --upgrade scikit-learn\n",
    "import sklearn\n",
    "print('The scikit-learn version is {}.'.format(sklearn.__version__))"
   ]
  },
  {
   "cell_type": "code",
   "execution_count": 2,
   "metadata": {},
   "outputs": [
    {
     "name": "stdout",
     "output_type": "stream",
     "text": [
      "OneHotEncoder imported successfully!\n"
     ]
    }
   ],
   "source": [
    "# Now you can import and use OneHotEncoder\n",
    "from sklearn.preprocessing import OneHotEncoder\n",
    "print(\"OneHotEncoder imported successfully!\")"
   ]
  },
  {
   "cell_type": "code",
   "execution_count": 3,
   "metadata": {},
   "outputs": [
    {
     "name": "stdout",
     "output_type": "stream",
     "text": [
      "Collecting tensorflow-tensorboard<0.2.0,>=0.1.0\n",
      "\u001b[?25l  Downloading https://files.pythonhosted.org/packages/93/31/bb4111c3141d22bd7b2b553a26aa0c1863c86cb723919e5bd7847b3de4fc/tensorflow_tensorboard-0.1.8-py3-none-any.whl (1.6MB)\n",
      "\u001b[K    100% |████████████████████████████████| 1.6MB 12.1MB/s ta 0:00:01\n",
      "\u001b[?25hRequirement already satisfied: protobuf>=3.2.0 in /opt/conda/lib/python3.6/site-packages (from tensorflow-tensorboard<0.2.0,>=0.1.0) (3.5.1)\n",
      "Requirement already satisfied: markdown>=2.6.8 in /opt/conda/lib/python3.6/site-packages (from tensorflow-tensorboard<0.2.0,>=0.1.0) (2.6.9)\n",
      "Requirement already satisfied: html5lib==0.9999999 in /opt/conda/lib/python3.6/site-packages (from tensorflow-tensorboard<0.2.0,>=0.1.0) (0.9999999)\n",
      "Requirement already satisfied: werkzeug>=0.11.10 in /opt/conda/lib/python3.6/site-packages (from tensorflow-tensorboard<0.2.0,>=0.1.0) (0.14.1)\n",
      "Requirement already satisfied: wheel>=0.26 in /opt/conda/lib/python3.6/site-packages (from tensorflow-tensorboard<0.2.0,>=0.1.0) (0.30.0)\n",
      "Requirement already satisfied: numpy>=1.11.0 in /opt/conda/lib/python3.6/site-packages (from tensorflow-tensorboard<0.2.0,>=0.1.0) (1.19.5)\n",
      "Requirement already satisfied: bleach==1.5.0 in /opt/conda/lib/python3.6/site-packages (from tensorflow-tensorboard<0.2.0,>=0.1.0) (1.5.0)\n",
      "Requirement already satisfied: six>=1.10.0 in /opt/conda/lib/python3.6/site-packages (from tensorflow-tensorboard<0.2.0,>=0.1.0) (1.11.0)\n",
      "Requirement already satisfied: setuptools in /opt/conda/lib/python3.6/site-packages (from protobuf>=3.2.0->tensorflow-tensorboard<0.2.0,>=0.1.0) (38.4.0)\n",
      "Installing collected packages: tensorflow-tensorboard\n",
      "Successfully installed tensorflow-tensorboard-0.1.8\n"
     ]
    }
   ],
   "source": [
    "# Similarly, should you need any other package, they can install it as:\n",
    "!python -m pip install 'tensorflow-tensorboard<0.2.0,>=0.1.0'"
   ]
  },
  {
   "cell_type": "code",
   "execution_count": 4,
   "metadata": {},
   "outputs": [
    {
     "name": "stdout",
     "output_type": "stream",
     "text": [
      "0.24.2\n"
     ]
    }
   ],
   "source": [
    "# Retest version\n",
    "import sklearn\n",
    "print(sklearn.__version__)  # Should show 0.24.2"
   ]
  },
  {
   "cell_type": "code",
   "execution_count": 5,
   "metadata": {},
   "outputs": [
    {
     "name": "stdout",
     "output_type": "stream",
     "text": [
      "Collecting kneed\n",
      "  Downloading https://files.pythonhosted.org/packages/9a/1b/7e726d8616e813007874468c61790099ba21493e0ea07561b7d9fc53151c/kneed-0.8.5-py3-none-any.whl\n",
      "Requirement already satisfied: numpy>=1.14.2 in /opt/conda/lib/python3.6/site-packages (from kneed) (1.19.5)\n",
      "Requirement already satisfied: scipy>=1.0.0 in /opt/conda/lib/python3.6/site-packages (from kneed) (1.2.1)\n",
      "Installing collected packages: kneed\n",
      "Successfully installed kneed-0.8.5\n"
     ]
    }
   ],
   "source": [
    "# %pip install kneed\n",
    "!pip install kneed --user"
   ]
  },
  {
   "cell_type": "code",
   "execution_count": null,
   "metadata": {},
   "outputs": [],
   "source": [
    "Restart the Kernel. "
   ]
  },
  {
   "cell_type": "markdown",
   "metadata": {},
   "source": [
    "### Step 0: Load the Data\n",
    "\n",
    "There are four files associated with this project (not including this one):\n",
    "\n",
    "- `Udacity_AZDIAS_Subset.csv`: Demographics data for the general population of Germany; 891211 persons (rows) x 85 features (columns).\n",
    "- `Udacity_CUSTOMERS_Subset.csv`: Demographics data for customers of a mail-order company; 191652 persons (rows) x 85 features (columns).\n",
    "- `Data_Dictionary.md`: Detailed information file about the features in the provided datasets.\n",
    "- `AZDIAS_Feature_Summary.csv`: Summary of feature attributes for demographics data; 85 features (rows) x 4 columns\n",
    "\n",
    "Each row of the demographics files represents a single person, but also includes information outside of individuals, including information about their household, building, and neighborhood. You will use this information to cluster the general population into groups with similar demographic properties. Then, you will see how the people in the customers dataset fit into those created clusters. The hope here is that certain clusters are over-represented in the customers data, as compared to the general population; those over-represented clusters will be assumed to be part of the core userbase. This information can then be used for further applications, such as targeting for a marketing campaign.\n",
    "\n",
    "To start off with, load in the demographics data for the general population into a pandas DataFrame, and do the same for the feature attributes summary. Note for all of the `.csv` data files in this project: they're semicolon (`;`) delimited, so you'll need an additional argument in your [`read_csv()`](https://pandas.pydata.org/pandas-docs/stable/generated/pandas.read_csv.html) call to read in the data properly. Also, considering the size of the main dataset, it may take some time for it to load completely.\n",
    "\n",
    "Once the dataset is loaded, it's recommended that you take a little bit of time just browsing the general structure of the dataset and feature summary file. You'll be getting deep into the innards of the cleaning in the first major step of the project, so gaining some general familiarity can help you get your bearings."
   ]
  },
  {
   "cell_type": "code",
   "execution_count": 28,
   "metadata": {},
   "outputs": [
    {
     "name": "stdout",
     "output_type": "stream",
     "text": [
      "   AGER_TYP  ALTERSKATEGORIE_GROB  ANREDE_KZ  CJT_GESAMTTYP  \\\n",
      "0        -1                     2          1            2.0   \n",
      "1        -1                     1          2            5.0   \n",
      "2        -1                     3          2            3.0   \n",
      "3         2                     4          2            2.0   \n",
      "4        -1                     3          1            5.0   \n",
      "\n",
      "   FINANZ_MINIMALIST  FINANZ_SPARER  FINANZ_VORSORGER  FINANZ_ANLEGER  \\\n",
      "0                  3              4                 3               5   \n",
      "1                  1              5                 2               5   \n",
      "2                  1              4                 1               2   \n",
      "3                  4              2                 5               2   \n",
      "4                  4              3                 4               1   \n",
      "\n",
      "   FINANZ_UNAUFFAELLIGER  FINANZ_HAUSBAUER    ...     PLZ8_ANTG1  PLZ8_ANTG2  \\\n",
      "0                      5                 3    ...            NaN         NaN   \n",
      "1                      4                 5    ...            2.0         3.0   \n",
      "2                      3                 5    ...            3.0         3.0   \n",
      "3                      1                 2    ...            2.0         2.0   \n",
      "4                      3                 2    ...            2.0         4.0   \n",
      "\n",
      "   PLZ8_ANTG3  PLZ8_ANTG4  PLZ8_BAUMAX  PLZ8_HHZ  PLZ8_GBZ  ARBEIT  \\\n",
      "0         NaN         NaN          NaN       NaN       NaN     NaN   \n",
      "1         2.0         1.0          1.0       5.0       4.0     3.0   \n",
      "2         1.0         0.0          1.0       4.0       4.0     3.0   \n",
      "3         2.0         0.0          1.0       3.0       4.0     2.0   \n",
      "4         2.0         1.0          2.0       3.0       3.0     4.0   \n",
      "\n",
      "   ORTSGR_KLS9  RELAT_AB  \n",
      "0          NaN       NaN  \n",
      "1          5.0       4.0  \n",
      "2          5.0       2.0  \n",
      "3          3.0       3.0  \n",
      "4          6.0       5.0  \n",
      "\n",
      "[5 rows x 85 columns]\n",
      "              attribute information_level         type missing_or_unknown\n",
      "0              AGER_TYP            person  categorical             [-1,0]\n",
      "1  ALTERSKATEGORIE_GROB            person      ordinal           [-1,0,9]\n",
      "2             ANREDE_KZ            person  categorical             [-1,0]\n",
      "3         CJT_GESAMTTYP            person  categorical                [0]\n",
      "4     FINANZ_MINIMALIST            person      ordinal               [-1]\n"
     ]
    }
   ],
   "source": [
    "# STILL HAVING PROBLEM UPGRAING TO 0.24.2, GOING TO USE pandas.get_dummies() for One-Hot Encoding\n",
    "import pandas as pd\n",
    "\n",
    "# Load in the general demographics data (semicolon-separated)\n",
    "gen_pop_data = pd.read_csv(\"Udacity_AZDIAS_Subset.csv\", sep=\";\", low_memory=False)\n",
    "\n",
    "# Load in the feature summary file (semicolon-separated)\n",
    "feature_sum_data = pd.read_csv(\"AZDIAS_Feature_Summary.csv\", sep=\";\", low_memory=False)\n",
    "\n",
    "# Display first few rows to check successful loading\n",
    "print(gen_pop_data.head())\n",
    "print(feature_sum_data.head())"
   ]
  },
  {
   "cell_type": "code",
   "execution_count": 29,
   "metadata": {},
   "outputs": [
    {
     "name": "stdout",
     "output_type": "stream",
     "text": [
      "General Demographics Data Shape: (891221, 85)\n",
      "\n",
      "First 5 rows of General Demographics Data:\n",
      "   AGER_TYP  ALTERSKATEGORIE_GROB  ANREDE_KZ  CJT_GESAMTTYP  \\\n",
      "0        -1                     2          1            2.0   \n",
      "1        -1                     1          2            5.0   \n",
      "2        -1                     3          2            3.0   \n",
      "3         2                     4          2            2.0   \n",
      "4        -1                     3          1            5.0   \n",
      "\n",
      "   FINANZ_MINIMALIST  FINANZ_SPARER  FINANZ_VORSORGER  FINANZ_ANLEGER  \\\n",
      "0                  3              4                 3               5   \n",
      "1                  1              5                 2               5   \n",
      "2                  1              4                 1               2   \n",
      "3                  4              2                 5               2   \n",
      "4                  4              3                 4               1   \n",
      "\n",
      "   FINANZ_UNAUFFAELLIGER  FINANZ_HAUSBAUER    ...     PLZ8_ANTG1  PLZ8_ANTG2  \\\n",
      "0                      5                 3    ...            NaN         NaN   \n",
      "1                      4                 5    ...            2.0         3.0   \n",
      "2                      3                 5    ...            3.0         3.0   \n",
      "3                      1                 2    ...            2.0         2.0   \n",
      "4                      3                 2    ...            2.0         4.0   \n",
      "\n",
      "   PLZ8_ANTG3  PLZ8_ANTG4  PLZ8_BAUMAX  PLZ8_HHZ  PLZ8_GBZ  ARBEIT  \\\n",
      "0         NaN         NaN          NaN       NaN       NaN     NaN   \n",
      "1         2.0         1.0          1.0       5.0       4.0     3.0   \n",
      "2         1.0         0.0          1.0       4.0       4.0     3.0   \n",
      "3         2.0         0.0          1.0       3.0       4.0     2.0   \n",
      "4         2.0         1.0          2.0       3.0       3.0     4.0   \n",
      "\n",
      "   ORTSGR_KLS9  RELAT_AB  \n",
      "0          NaN       NaN  \n",
      "1          5.0       4.0  \n",
      "2          5.0       2.0  \n",
      "3          3.0       3.0  \n",
      "4          6.0       5.0  \n",
      "\n",
      "[5 rows x 85 columns]\n",
      "\n",
      "General Demographics Columns and Data Types:\n",
      "AGER_TYP                   int64\n",
      "ALTERSKATEGORIE_GROB       int64\n",
      "ANREDE_KZ                  int64\n",
      "CJT_GESAMTTYP            float64\n",
      "FINANZ_MINIMALIST          int64\n",
      "FINANZ_SPARER              int64\n",
      "FINANZ_VORSORGER           int64\n",
      "FINANZ_ANLEGER             int64\n",
      "FINANZ_UNAUFFAELLIGER      int64\n",
      "FINANZ_HAUSBAUER           int64\n",
      "FINANZTYP                  int64\n",
      "GEBURTSJAHR                int64\n",
      "GFK_URLAUBERTYP          float64\n",
      "GREEN_AVANTGARDE           int64\n",
      "HEALTH_TYP                 int64\n",
      "LP_LEBENSPHASE_FEIN      float64\n",
      "LP_LEBENSPHASE_GROB      float64\n",
      "LP_FAMILIE_FEIN          float64\n",
      "LP_FAMILIE_GROB          float64\n",
      "LP_STATUS_FEIN           float64\n",
      "LP_STATUS_GROB           float64\n",
      "NATIONALITAET_KZ           int64\n",
      "PRAEGENDE_JUGENDJAHRE      int64\n",
      "RETOURTYP_BK_S           float64\n",
      "SEMIO_SOZ                  int64\n",
      "SEMIO_FAM                  int64\n",
      "SEMIO_REL                  int64\n",
      "SEMIO_MAT                  int64\n",
      "SEMIO_VERT                 int64\n",
      "SEMIO_LUST                 int64\n",
      "                          ...   \n",
      "OST_WEST_KZ               object\n",
      "WOHNLAGE                 float64\n",
      "CAMEO_DEUG_2015           object\n",
      "CAMEO_DEU_2015            object\n",
      "CAMEO_INTL_2015           object\n",
      "KBA05_ANTG1              float64\n",
      "KBA05_ANTG2              float64\n",
      "KBA05_ANTG3              float64\n",
      "KBA05_ANTG4              float64\n",
      "KBA05_BAUMAX             float64\n",
      "KBA05_GBZ                float64\n",
      "BALLRAUM                 float64\n",
      "EWDICHTE                 float64\n",
      "INNENSTADT               float64\n",
      "GEBAEUDETYP_RASTER       float64\n",
      "KKK                      float64\n",
      "MOBI_REGIO               float64\n",
      "ONLINE_AFFINITAET        float64\n",
      "REGIOTYP                 float64\n",
      "KBA13_ANZAHL_PKW         float64\n",
      "PLZ8_ANTG1               float64\n",
      "PLZ8_ANTG2               float64\n",
      "PLZ8_ANTG3               float64\n",
      "PLZ8_ANTG4               float64\n",
      "PLZ8_BAUMAX              float64\n",
      "PLZ8_HHZ                 float64\n",
      "PLZ8_GBZ                 float64\n",
      "ARBEIT                   float64\n",
      "ORTSGR_KLS9              float64\n",
      "RELAT_AB                 float64\n",
      "Length: 85, dtype: object\n",
      "\n",
      "Missing Values in General Demographics:\n",
      "AGER_TYP                      0\n",
      "ALTERSKATEGORIE_GROB          0\n",
      "ANREDE_KZ                     0\n",
      "CJT_GESAMTTYP              4854\n",
      "FINANZ_MINIMALIST             0\n",
      "FINANZ_SPARER                 0\n",
      "FINANZ_VORSORGER              0\n",
      "FINANZ_ANLEGER                0\n",
      "FINANZ_UNAUFFAELLIGER         0\n",
      "FINANZ_HAUSBAUER              0\n",
      "FINANZTYP                     0\n",
      "GEBURTSJAHR                   0\n",
      "GFK_URLAUBERTYP            4854\n",
      "GREEN_AVANTGARDE              0\n",
      "HEALTH_TYP                    0\n",
      "LP_LEBENSPHASE_FEIN        4854\n",
      "LP_LEBENSPHASE_GROB        4854\n",
      "LP_FAMILIE_FEIN            4854\n",
      "LP_FAMILIE_GROB            4854\n",
      "LP_STATUS_FEIN             4854\n",
      "LP_STATUS_GROB             4854\n",
      "NATIONALITAET_KZ              0\n",
      "PRAEGENDE_JUGENDJAHRE         0\n",
      "RETOURTYP_BK_S             4854\n",
      "SEMIO_SOZ                     0\n",
      "SEMIO_FAM                     0\n",
      "SEMIO_REL                     0\n",
      "SEMIO_MAT                     0\n",
      "SEMIO_VERT                    0\n",
      "SEMIO_LUST                    0\n",
      "                          ...  \n",
      "OST_WEST_KZ               93148\n",
      "WOHNLAGE                  93148\n",
      "CAMEO_DEUG_2015           98979\n",
      "CAMEO_DEU_2015            98979\n",
      "CAMEO_INTL_2015           98979\n",
      "KBA05_ANTG1              133324\n",
      "KBA05_ANTG2              133324\n",
      "KBA05_ANTG3              133324\n",
      "KBA05_ANTG4              133324\n",
      "KBA05_BAUMAX             133324\n",
      "KBA05_GBZ                133324\n",
      "BALLRAUM                  93740\n",
      "EWDICHTE                  93740\n",
      "INNENSTADT                93740\n",
      "GEBAEUDETYP_RASTER        93155\n",
      "KKK                      121196\n",
      "MOBI_REGIO               133324\n",
      "ONLINE_AFFINITAET          4854\n",
      "REGIOTYP                 121196\n",
      "KBA13_ANZAHL_PKW         105800\n",
      "PLZ8_ANTG1               116515\n",
      "PLZ8_ANTG2               116515\n",
      "PLZ8_ANTG3               116515\n",
      "PLZ8_ANTG4               116515\n",
      "PLZ8_BAUMAX              116515\n",
      "PLZ8_HHZ                 116515\n",
      "PLZ8_GBZ                 116515\n",
      "ARBEIT                    97216\n",
      "ORTSGR_KLS9               97216\n",
      "RELAT_AB                  97216\n",
      "Length: 85, dtype: int64\n"
     ]
    }
   ],
   "source": [
    "# Check the structure of the data after it's loaded (e.g. print the number of\n",
    "# rows and columns, print the first few rows).\n",
    "\n",
    "# Check general demographics data\n",
    "\n",
    "# Print the number of rows and columns\n",
    "print(f\"General Demographics Data Shape: {gen_pop_data.shape}\")\n",
    "\n",
    "# Display the first few rows\n",
    "print(\"\\nFirst 5 rows of General Demographics Data:\")\n",
    "print(gen_pop_data.head())\n",
    "\n",
    "# Check the column names and data types\n",
    "print(\"\\nGeneral Demographics Columns and Data Types:\")\n",
    "print(gen_pop_data.dtypes)\n",
    "\n",
    "# Check for missing values in the feature summary dataset\n",
    "print(\"\\nMissing Values in General Demographics:\")\n",
    "print(gen_pop_data.isnull().sum())"
   ]
  },
  {
   "cell_type": "markdown",
   "metadata": {},
   "source": [
    "> **Observations**: \n",
    "\n",
    "Shape: (891221, 85)\n",
    "Missing Data: Some columns have a lot of missing values.\n",
    "Data Types: Mostly int64 and float64.\n",
    "Some categorical columns (OST_WEST_KZ, CAMEO_DEUG_2015, CAMEO_DEU_2015 and CAMEO_INTL_2015) are stored as objects."
   ]
  },
  {
   "cell_type": "code",
   "execution_count": 30,
   "metadata": {},
   "outputs": [
    {
     "name": "stdout",
     "output_type": "stream",
     "text": [
      "Feature Summary Data Shape: (85, 4)\n",
      "\n",
      "First 5 rows of Feature Summary Data:\n",
      "              attribute information_level         type missing_or_unknown\n",
      "0              AGER_TYP            person  categorical             [-1,0]\n",
      "1  ALTERSKATEGORIE_GROB            person      ordinal           [-1,0,9]\n",
      "2             ANREDE_KZ            person  categorical             [-1,0]\n",
      "3         CJT_GESAMTTYP            person  categorical                [0]\n",
      "4     FINANZ_MINIMALIST            person      ordinal               [-1]\n",
      "\n",
      "Feature Summary Columns and Data Types:\n",
      "attribute             object\n",
      "information_level     object\n",
      "type                  object\n",
      "missing_or_unknown    object\n",
      "dtype: object\n",
      "\n",
      "Missing Values in Feature Summary:\n",
      "attribute             0\n",
      "information_level     0\n",
      "type                  0\n",
      "missing_or_unknown    0\n",
      "dtype: int64\n"
     ]
    }
   ],
   "source": [
    "# Check the structure of feature data set\n",
    "\n",
    "# Print the number of rows and columns\n",
    "print(f\"Feature Summary Data Shape: {feature_sum_data.shape}\")\n",
    "\n",
    "# Display the first few rows\n",
    "print(\"\\nFirst 5 rows of Feature Summary Data:\")\n",
    "print(feature_sum_data.head())\n",
    "\n",
    "# Check the column names and data types\n",
    "print(\"\\nFeature Summary Columns and Data Types:\")\n",
    "print(feature_sum_data.dtypes)\n",
    "\n",
    "# Check for missing values in the feature summary dataset\n",
    "print(\"\\nMissing Values in Feature Summary:\")\n",
    "print(feature_sum_data.isnull().sum())"
   ]
  },
  {
   "cell_type": "markdown",
   "metadata": {},
   "source": [
    "> **Observations**:\n",
    "    \n",
    "Shape: (85, 4) \n",
    "No Missing Values: 0"
   ]
  },
  {
   "cell_type": "markdown",
   "metadata": {},
   "source": [
    "> **Tip**: Add additional cells to keep everything in reasonably-sized chunks! Keyboard shortcut `esc --> a` (press escape to enter command mode, then press the 'A' key) adds a new cell before the active cell, and `esc --> b` adds a new cell after the active cell. If you need to convert an active cell to a markdown cell, use `esc --> m` and to convert to a code cell, use `esc --> y`. \n",
    "\n",
    "## Step 1: Preprocessing - Extract Missing Value Codes from Feature Summary\n",
    "\n",
    "### Step 1.1: Assess Missing Data\n",
    "\n",
    "The feature summary file contains a summary of properties for each demographics data column. You will use this file to help you make cleaning decisions during this stage of the project. First of all, you should assess the demographics data in terms of missing data. Pay attention to the following points as you perform your analysis, and take notes on what you observe. Make sure that you fill in the **Discussion** cell with your findings and decisions at the end of each step that has one!"
   ]
  },
  {
   "cell_type": "code",
   "execution_count": 31,
   "metadata": {},
   "outputs": [
    {
     "name": "stdout",
     "output_type": "stream",
     "text": [
      "Sample of missing values dictionary:\n",
      "AGER_TYP: ['-1', 0]\n",
      "ALTERSKATEGORIE_GROB: ['-1', 0, 9]\n",
      "ANREDE_KZ: ['-1', 0]\n",
      "CJT_GESAMTTYP: [0]\n",
      "FINANZ_MINIMALIST: ['-1']\n"
     ]
    }
   ],
   "source": [
    "import numpy as np\n",
    "\n",
    "# Create a dictionary to store missing value codes for each attribute\n",
    "missing_values_dict = {}\n",
    "\n",
    "for index, row in feature_sum_data.iterrows():\n",
    "    if pd.notna(row[\"missing_or_unknown\"]):  # Ensure it's not NaN\n",
    "        # Convert the string representation of list to an actual list\n",
    "        missing_values = row[\"missing_or_unknown\"].strip(\"[]\").split(\",\")\n",
    "        # Convert to integer values (or strip spaces)\n",
    "        missing_values = [int(value) if value.strip().isdigit() else value.strip() for value in missing_values]\n",
    "        missing_values_dict[row[\"attribute\"]] = missing_values\n",
    "\n",
    "# Print a sample of the missing values dictionary\n",
    "print(\"Sample of missing values dictionary:\")\n",
    "for key, value in list(missing_values_dict.items())[:5]:  # Show first 5 for readability\n",
    "    print(f\"{key}: {value}\")"
   ]
  },
  {
   "cell_type": "markdown",
   "metadata": {},
   "source": [
    "#### Step 1.1.1: Convert Missing Value Codes to NaNs\n",
    "The fourth column of the feature attributes summary (loaded in above as `feat_info`) documents the codes from the data dictionary that indicate missing or unknown data. While the file encodes this as a list (e.g. `[-1,0]`), this will get read in as a string object. You'll need to do a little bit of parsing to make use of it to identify and clean the data. Convert data that matches a 'missing' or 'unknown' value code into a numpy NaN value. You might want to see how much data takes on a 'missing' or 'unknown' code, and how much data is naturally missing, as a point of interest.\n",
    "\n",
    "**As one more reminder, you are encouraged to add additional cells to break up your analysis into manageable chunks.**"
   ]
  },
  {
   "cell_type": "code",
   "execution_count": 32,
   "metadata": {},
   "outputs": [
    {
     "name": "stdout",
     "output_type": "stream",
     "text": [
      "\n",
      "Missing Values After Conversion:\n",
      " TITEL_KZ                 889061\n",
      "KK_KUNDENTYP             584612\n",
      "KBA05_BAUMAX             476524\n",
      "GEBURTSJAHR              392318\n",
      "ALTER_HH                 310267\n",
      "KKK                      158064\n",
      "REGIOTYP                 158064\n",
      "W_KEIT_KIND_HH           147988\n",
      "MOBI_REGIO               133324\n",
      "KBA05_ANTG1              133324\n",
      "KBA05_ANTG2              133324\n",
      "KBA05_ANTG3              133324\n",
      "KBA05_ANTG4              133324\n",
      "KBA05_GBZ                133324\n",
      "PLZ8_GBZ                 116515\n",
      "PLZ8_ANTG1               116515\n",
      "PLZ8_ANTG2               116515\n",
      "PLZ8_ANTG3               116515\n",
      "PLZ8_ANTG4               116515\n",
      "PLZ8_BAUMAX              116515\n",
      "PLZ8_HHZ                 116515\n",
      "NATIONALITAET_KZ         108315\n",
      "PRAEGENDE_JUGENDJAHRE    108164\n",
      "KBA13_ANZAHL_PKW         105800\n",
      "ANZ_HAUSHALTE_AKTIV       99611\n",
      "CAMEO_DEUG_2015           99352\n",
      "CAMEO_DEU_2015            99352\n",
      "CAMEO_INTL_2015           99352\n",
      "LP_LEBENSPHASE_FEIN       97632\n",
      "ARBEIT                    97375\n",
      "RELAT_AB                  97375\n",
      "ORTSGR_KLS9               97274\n",
      "ANZ_HH_TITEL              97008\n",
      "LP_LEBENSPHASE_GROB       94572\n",
      "BALLRAUM                  93740\n",
      "EWDICHTE                  93740\n",
      "INNENSTADT                93740\n",
      "GEBAEUDETYP_RASTER        93155\n",
      "OST_WEST_KZ               93148\n",
      "WOHNLAGE                  93148\n",
      "GEBAEUDETYP               93148\n",
      "MIN_GEBAEUDEJAHR          93148\n",
      "LP_FAMILIE_FEIN           77792\n",
      "LP_FAMILIE_GROB           77792\n",
      "KONSUMNAEHE               73969\n",
      "ANZ_TITEL                 73499\n",
      "WOHNDAUER_2008            73499\n",
      "SOHO_KZ                   73499\n",
      "ANZ_PERSONEN              73499\n",
      "HH_EINKOMMEN_SCORE        18348\n",
      "AGER_TYP                   8340\n",
      "LP_STATUS_GROB             4854\n",
      "RETOURTYP_BK_S             4854\n",
      "GFK_URLAUBERTYP            4854\n",
      "ONLINE_AFFINITAET          4854\n",
      "CJT_GESAMTTYP              4854\n",
      "LP_STATUS_FEIN             4854\n",
      "ALTERSKATEGORIE_GROB       2881\n",
      "dtype: int64\n"
     ]
    }
   ],
   "source": [
    "# Identify missing or unknown data values and convert them to NaNs.\n",
    "\n",
    "# Replace missing values in the demographics dataset\n",
    "for col, missing_vals in missing_values_dict.items():\n",
    "    if col in gen_pop_data.columns:  # Ensure the column exists in the dataset\n",
    "        gen_pop_data[col] = gen_pop_data[col].replace(missing_vals, np.nan)\n",
    "\n",
    "# Check missing values after conversion\n",
    "missing_counts = gen_pop_data.isnull().sum()\n",
    "print(\"\\nMissing Values After Conversion:\\n\", missing_counts[missing_counts > 0].sort_values(ascending=False))"
   ]
  },
  {
   "cell_type": "markdown",
   "metadata": {},
   "source": [
    "#### Step 1.1.2: Assess Missing Data in Each Column\n",
    "\n",
    "How much missing data is present in each column? There are a few columns that are outliers in terms of the proportion of values that are missing. You will want to use matplotlib's [`hist()`](https://matplotlib.org/api/_as_gen/matplotlib.pyplot.hist.html) function to visualize the distribution of missing value counts to find these columns. Identify and document these columns. While some of these columns might have justifications for keeping or re-encoding the data, for this project you should just remove them from the dataframe. (Feel free to make remarks about these outlier columns in the discussion, however!)\n",
    "\n",
    "For the remaining features, are there any patterns in which columns have, or share, missing data?"
   ]
  },
  {
   "cell_type": "markdown",
   "metadata": {},
   "source": [
    "<span style=\"color:blue\">Compute Missing Data Percentage</span>"
   ]
  },
  {
   "cell_type": "code",
   "execution_count": 33,
   "metadata": {},
   "outputs": [
    {
     "name": "stdout",
     "output_type": "stream",
     "text": [
      "Top 10 Columns with Highest Missing Data:\n",
      "\n",
      "TITEL_KZ          99.757636\n",
      "KK_KUNDENTYP      65.596749\n",
      "KBA05_BAUMAX      53.468668\n",
      "GEBURTSJAHR       44.020282\n",
      "ALTER_HH          34.813699\n",
      "REGIOTYP          17.735668\n",
      "KKK               17.735668\n",
      "W_KEIT_KIND_HH    16.605084\n",
      "KBA05_GBZ         14.959701\n",
      "KBA05_ANTG3       14.959701\n",
      "dtype: float64\n"
     ]
    }
   ],
   "source": [
    "# Perform an assessment of how much missing data there is in each column of the\n",
    "# dataset.\n",
    "\n",
    "import matplotlib.pyplot as plt\n",
    "\n",
    "# Calculate missing value percentage per column\n",
    "missing_percent = (gen_pop_data.isnull().sum() / len(gen_pop_data)) * 100\n",
    "\n",
    "# Display missing percentage for the top 10 columns with the most missing data\n",
    "print(\"Top 10 Columns with Highest Missing Data:\\n\")\n",
    "print(missing_percent.sort_values(ascending=False).head(10))\n"
   ]
  },
  {
   "cell_type": "markdown",
   "metadata": {},
   "source": [
    "<span style=\"color:blue\">Visualize the Distribution of Missing Values</span>\n"
   ]
  },
  {
   "cell_type": "code",
   "execution_count": 34,
   "metadata": {},
   "outputs": [
    {
     "data": {
      "image/png": "[encoded data removed]",
      "text/plain": [
       "<matplotlib.figure.Figure at 0x791f898a86d8>"
      ]
     },
     "metadata": {
      "needs_background": "light"
     },
     "output_type": "display_data"
    }
   ],
   "source": [
    "# Investigate patterns in the amount of missing data in each column.\n",
    "\n",
    "# Plot histogram of missing values\n",
    "plt.figure(figsize=(10, 6))\n",
    "plt.hist(missing_percent, bins=30, edgecolor=\"black\")\n",
    "plt.xlabel(\"Percentage of Missing Data\")\n",
    "plt.ylabel(\"Number of Columns\")\n",
    "plt.title(\"Distribution of Missing Values Across Columns\")\n",
    "plt.show()\n"
   ]
  },
  {
   "cell_type": "markdown",
   "metadata": {},
   "source": [
    "<span style=\"color:blue\">Identify and Remove Outlier Columns</span>\n"
   ]
  },
  {
   "cell_type": "code",
   "execution_count": 35,
   "metadata": {},
   "outputs": [
    {
     "name": "stdout",
     "output_type": "stream",
     "text": [
      "Dropped 4 columns due to excessive missing data.\n"
     ]
    }
   ],
   "source": [
    "# Remove the outlier columns from the dataset. (You'll perform other data\n",
    "# engineering tasks such as re-encoding and imputation later.)\n",
    "\n",
    "# If a column has more than 40% missing data, we will remove it.\n",
    "\n",
    "# Set missing value threshold (e.g., remove columns with >40% missing data)\n",
    "threshold = 40  \n",
    "\n",
    "# Identify columns to drop\n",
    "cols_to_drop = missing_percent[missing_percent > threshold].index\n",
    "\n",
    "# Drop these columns from the dataset\n",
    "gen_pop_data_cleaned = gen_pop_data.drop(columns=cols_to_drop)\n",
    "\n",
    "print(f\"Dropped {len(cols_to_drop)} columns due to excessive missing data.\")"
   ]
  },
  {
   "cell_type": "markdown",
   "metadata": {},
   "source": [
    "#### Discussion 1.1.2: Assess Missing Data in Each Column\n",
    "\n",
    "**Observations regarding the amount of missing data in each column. \n",
    "\n",
    "- Are there any patterns in missing values? \n",
    "The histogram showed that most columns had low missing values, but a few had a very high percentage of missing data.\n",
    "\n",
    "- Which columns were removed from the dataset?\n",
    "Categorical columns (CAMEO_DEUG_2015, OST_WEST_KZ, etc.) had significant missing values."
   ]
  },
  {
   "cell_type": "markdown",
   "metadata": {},
   "source": [
    "#### Step 1.1.3: Assess Missing Data in Each Row\n",
    "\n",
    "Now, you'll perform a similar assessment for the rows of the dataset. How much data is missing in each row? As with the columns, you should see some groups of points that have a very different numbers of missing values. Divide the data into two subsets: one for data points that are above some threshold for missing values, and a second subset for points below that threshold.\n",
    "\n",
    "In order to know what to do with the outlier rows, we should see if the distribution of data values on columns that are not missing data (or are missing very little data) are similar or different between the two groups. Select at least five of these columns and compare the distribution of values.\n",
    "- You can use seaborn's [`countplot()`](https://seaborn.pydata.org/generated/seaborn.countplot.html) function to create a bar chart of code frequencies and matplotlib's [`subplot()`](https://matplotlib.org/api/_as_gen/matplotlib.pyplot.subplot.html) function to put bar charts for the two subplots side by side.\n",
    "- To reduce repeated code, you might want to write a function that can perform this comparison, taking as one of its arguments a column to be compared.\n",
    "\n",
    "Depending on what you observe in your comparison, this will have implications on how you approach your conclusions later in the analysis. If the distributions of non-missing features look similar between the data with many missing values and the data with few or no missing values, then we could argue that simply dropping those points from the analysis won't present a major issue. On the other hand, if the data with many missing values looks very different from the data with few or no missing values, then we should make a note on those data as special. We'll revisit these data later on. **Either way, you should continue your analysis for now using just the subset of the data with few or no missing values.**"
   ]
  },
  {
   "cell_type": "markdown",
   "metadata": {},
   "source": [
    "<span style=\"color:blue\">Compute Missing Data Per Row </span>\n"
   ]
  },
  {
   "cell_type": "code",
   "execution_count": 36,
   "metadata": {},
   "outputs": [
    {
     "data": {
      "image/png": "[encoded data removed]",
      "text/plain": [
       "<matplotlib.figure.Figure at 0x791f75a4ae10>"
      ]
     },
     "metadata": {
      "needs_background": "light"
     },
     "output_type": "display_data"
    },
    {
     "name": "stdout",
     "output_type": "stream",
     "text": [
      "Missing Data per Row Statistics:\n",
      " count    891221.000000\n",
      "mean          5.633084\n",
      "std          12.673271\n",
      "min           0.000000\n",
      "25%           0.000000\n",
      "50%           0.000000\n",
      "75%           2.000000\n",
      "max          46.000000\n",
      "dtype: float64\n"
     ]
    }
   ],
   "source": [
    "# How much data is missing in each row of the dataset?\n",
    "\n",
    "# Count missing values per row\n",
    "missing_per_row = gen_pop_data_cleaned.isnull().sum(axis=1)\n",
    "\n",
    "# Plot histogram of missing values per row\n",
    "plt.figure(figsize=(10, 6))\n",
    "plt.hist(missing_per_row, bins=50, edgecolor=\"black\")\n",
    "plt.xlabel(\"Number of Missing Features per Row\")\n",
    "plt.ylabel(\"Number of Rows\")\n",
    "plt.title(\"Distribution of Missing Data per Row\")\n",
    "plt.show()\n",
    "\n",
    "# Display summary statistics of missing values per row\n",
    "print(\"Missing Data per Row Statistics:\\n\", missing_per_row.describe())"
   ]
  },
  {
   "cell_type": "markdown",
   "metadata": {},
   "source": [
    "<span style=\"color:blue\">Define & Split Data</span>\n"
   ]
  },
  {
   "cell_type": "code",
   "execution_count": 37,
   "metadata": {},
   "outputs": [
    {
     "name": "stdout",
     "output_type": "stream",
     "text": [
      "Rows with many missing values: 93300\n",
      "Rows kept for further analysis: 797921\n"
     ]
    }
   ],
   "source": [
    "# Write code to divide the data into two subsets based on the number of missing\n",
    "# values in each row.\n",
    "\n",
    "# Define threshold (ex: remove rows with >30% missing values)\n",
    "threshold = 0.3 * gen_pop_data_cleaned.shape[1]  # 30% of total columns\n",
    "\n",
    "# Identify rows to keep and remove\n",
    "rows_to_remove = missing_per_row[missing_per_row > threshold].index\n",
    "rows_to_keep = missing_per_row[missing_per_row <= threshold].index\n",
    "\n",
    "# Split the dataset\n",
    "gen_pop_data_high_missing = gen_pop_data_cleaned.loc[rows_to_remove]  # Rows with many missing values\n",
    "gen_pop_data_low_missing = gen_pop_data_cleaned.loc[rows_to_keep]  # Rows to keep\n",
    "\n",
    "print(f\"Rows with many missing values: {len(gen_pop_data_high_missing)}\")\n",
    "print(f\"Rows kept for further analysis: {len(gen_pop_data_low_missing)}\")\n"
   ]
  },
  {
   "cell_type": "markdown",
   "metadata": {},
   "source": [
    "<span style=\"color:blue\">Compare Data Distributions</span>\n"
   ]
  },
  {
   "cell_type": "code",
   "execution_count": 38,
   "metadata": {},
   "outputs": [
    {
     "data": {
      "image/png": "[encoded data removed]",
      "text/plain": [
       "<matplotlib.figure.Figure at 0x791f75ac79e8>"
      ]
     },
     "metadata": {
      "needs_background": "light"
     },
     "output_type": "display_data"
    },
    {
     "data": {
      "image/png": "[encoded data removed]",
      "text/plain": [
       "<matplotlib.figure.Figure at 0x791f75b14e10>"
      ]
     },
     "metadata": {
      "needs_background": "light"
     },
     "output_type": "display_data"
    },
    {
     "data": {
      "image/png": "[encoded data removed]",
      "text/plain": [
       "<matplotlib.figure.Figure at 0x791f75b9cfd0>"
      ]
     },
     "metadata": {
      "needs_background": "light"
     },
     "output_type": "display_data"
    },
    {
     "data": {
      "image/png": "[encoded data removed]",
      "text/plain": [
       "<matplotlib.figure.Figure at 0x791f75c51710>"
      ]
     },
     "metadata": {
      "needs_background": "light"
     },
     "output_type": "display_data"
    },
    {
     "data": {
      "image/png": "[encoded data removed]",
      "text/plain": [
       "<matplotlib.figure.Figure at 0x791f75cd7048>"
      ]
     },
     "metadata": {
      "needs_background": "light"
     },
     "output_type": "display_data"
    }
   ],
   "source": [
    "# Compare the distribution of values for at least five columns where there are\n",
    "# no or few missing values, between the two subsets.\n",
    "\n",
    "import seaborn as sns\n",
    "\n",
    "def compare_distributions(feature):\n",
    "    \"\"\"Compare distributions of a feature between high-missing and low-missing datasets.\"\"\"\n",
    "    plt.figure(figsize=(12, 5))\n",
    "\n",
    "    # First subplot: Low missing group\n",
    "    plt.subplot(1, 2, 1)\n",
    "    sns.countplot(x=gen_pop_data_low_missing[feature], palette=\"Blues\")\n",
    "    plt.title(f\"Distribution of {feature} (Low Missing)\")\n",
    "\n",
    "    # Second subplot: High missing group\n",
    "    plt.subplot(1, 2, 2)\n",
    "    sns.countplot(x=gen_pop_data_high_missing[feature], palette=\"Reds\")\n",
    "    plt.title(f\"Distribution of {feature} (High Missing)\")\n",
    "\n",
    "    plt.show()\n",
    "\n",
    "# Select 5 features to compare\n",
    "features_to_compare = [\"ANREDE_KZ\", \"ALTERSKATEGORIE_GROB\", \"FINANZ_MINIMALIST\", \"GREEN_AVANTGARDE\", \"NATIONALITAET_KZ\"]\n",
    "\n",
    "# Compare distributions\n",
    "for feature in features_to_compare:\n",
    "    compare_distributions(feature)"
   ]
  },
  {
   "cell_type": "markdown",
   "metadata": {},
   "source": [
    "#### Discussion 1.1.3: Assess Missing Data in Each Row\n",
    "\n",
    "- Are the data with lots of missing values are qualitatively different from data with few or no missing values?\n",
    "Analyzed five features (ANREDE_KZ, ALTERSKATEGORIE_GROB, FINANZ_MINIMALIST, GREEN_AVANTGARDE, NATIONALITAET_KZ) and compared their distributions in:\n",
    "\n",
    "1. Rows with few missing values (kept for analysis)\n",
    "2. Rows with many missing values (potentially dropped)\n",
    "\n",
    "If distributions were similar, it suggests that missing values are randomly distributed and do not indicate a separate population.\n",
    "\n",
    "If distributions were different, it suggests that missing values may be related to certain demographic characteristics."
   ]
  },
  {
   "cell_type": "markdown",
   "metadata": {},
   "source": [
    "### Step 1.2: Select and Re-Encode Features\n",
    "\n",
    "Checking for missing data isn't the only way in which you can prepare a dataset for analysis. Since the unsupervised learning techniques to be used will only work on data that is encoded numerically, you need to make a few encoding changes or additional assumptions to be able to make progress. In addition, while almost all of the values in the dataset are encoded using numbers, not all of them represent numeric values. Check the third column of the feature summary (`feat_info`) for a summary of types of measurement.\n",
    "- For numeric and interval data, these features can be kept without changes.\n",
    "- Most of the variables in the dataset are ordinal in nature. While ordinal values may technically be non-linear in spacing, make the simplifying assumption that the ordinal variables can be treated as being interval in nature (that is, kept without any changes).\n",
    "- Special handling may be necessary for the remaining two variable types: categorical, and 'mixed'.\n",
    "\n",
    "In the first two parts of this sub-step, you will perform an investigation of the categorical and mixed-type features and make a decision on each of them, whether you will keep, drop, or re-encode each. Then, in the last part, you will create a new data frame with only the selected and engineered columns.\n",
    "\n",
    "Data wrangling is often the trickiest part of the data analysis process, and there's a lot of it to be done here. But stick with it: once you're done with this step, you'll be ready to get to the machine learning parts of the project!"
   ]
  },
  {
   "cell_type": "markdown",
   "metadata": {},
   "source": [
    "<span style=\"color:blue\">Count Features by Type</span>\n",
    "\n"
   ]
  },
  {
   "cell_type": "code",
   "execution_count": 39,
   "metadata": {},
   "outputs": [
    {
     "name": "stdout",
     "output_type": "stream",
     "text": [
      "Feature Type Distribution:\n",
      " ordinal        49\n",
      "categorical    21\n",
      "mixed           7\n",
      "numeric         7\n",
      "interval        1\n",
      "Name: type, dtype: int64\n"
     ]
    }
   ],
   "source": [
    "# How many features are there of each data type?\n",
    "\n",
    "# Count the number of features for each type\n",
    "feature_counts = feature_sum_data[\"type\"].value_counts()\n",
    "\n",
    "# Display feature type distribution\n",
    "print(\"Feature Type Distribution:\\n\", feature_counts)"
   ]
  },
  {
   "cell_type": "markdown",
   "metadata": {},
   "source": [
    "<span style=\"color:blue\">Identify Features by Type </span>"
   ]
  },
  {
   "cell_type": "code",
   "execution_count": 40,
   "metadata": {},
   "outputs": [
    {
     "name": "stdout",
     "output_type": "stream",
     "text": [
      "Ordinal Features: 49\n",
      "Categorical Features: 21\n",
      "Numeric Features: 7\n",
      "Mixed Features: 7\n"
     ]
    }
   ],
   "source": [
    "# Extract feature names by type\n",
    "ordinal_features = feature_sum_data[feature_sum_data[\"type\"] == \"ordinal\"][\"attribute\"].tolist()\n",
    "categorical_features = feature_sum_data[feature_sum_data[\"type\"] == \"categorical\"][\"attribute\"].tolist()\n",
    "numeric_features = feature_sum_data[feature_sum_data[\"type\"] == \"numeric\"][\"attribute\"].tolist()\n",
    "mixed_features = feature_sum_data[feature_sum_data[\"type\"] == \"mixed\"][\"attribute\"].tolist()\n",
    "\n",
    "# Print feature counts\n",
    "print(f\"Ordinal Features: {len(ordinal_features)}\")\n",
    "print(f\"Categorical Features: {len(categorical_features)}\")\n",
    "print(f\"Numeric Features: {len(numeric_features)}\")\n",
    "print(f\"Mixed Features: {len(mixed_features)}\")"
   ]
  },
  {
   "cell_type": "markdown",
   "metadata": {},
   "source": [
    "#### Step 1.2.1: Re-Encode Categorical Features\n",
    "\n",
    "For categorical data, you would ordinarily need to encode the levels as dummy variables. Depending on the number of categories, perform one of the following:\n",
    "- For binary (two-level) categoricals that take numeric values, you can keep them without needing to do anything.\n",
    "- There is one binary variable that takes on non-numeric values. For this one, you need to re-encode the values as numbers or create a dummy variable.\n",
    "- For multi-level categoricals (three or more values), you can choose to encode the values using multiple dummy variables (e.g. via [OneHotEncoder](http://scikit-learn.org/stable/modules/generated/sklearn.preprocessing.OneHotEncoder.html)), or (to keep things straightforward) just drop them from the analysis. As always, document your choices in the Discussion section."
   ]
  },
  {
   "cell_type": "markdown",
   "metadata": {},
   "source": [
    "<span style=\"color:blue\">Identify Categorical Features & Unique Values</span>\n"
   ]
  },
  {
   "cell_type": "code",
   "execution_count": 41,
   "metadata": {},
   "outputs": [
    {
     "name": "stdout",
     "output_type": "stream",
     "text": [
      "AGER_TYP: 4 unique values\n",
      "ANREDE_KZ: 2 unique values\n",
      "CJT_GESAMTTYP: 6 unique values\n",
      "FINANZTYP: 6 unique values\n",
      "GFK_URLAUBERTYP: 12 unique values\n",
      "GREEN_AVANTGARDE: 2 unique values\n",
      "LP_FAMILIE_FEIN: 11 unique values\n",
      "LP_FAMILIE_GROB: 5 unique values\n",
      "LP_STATUS_FEIN: 10 unique values\n",
      "LP_STATUS_GROB: 5 unique values\n",
      "NATIONALITAET_KZ: 3 unique values\n",
      "SHOPPER_TYP: 5 unique values\n",
      "SOHO_KZ: 2 unique values\n",
      "VERS_TYP: 3 unique values\n",
      "ZABEOTYP: 6 unique values\n",
      "GEBAEUDETYP: 7 unique values\n",
      "OST_WEST_KZ: 2 unique values\n",
      "CAMEO_DEUG_2015: 9 unique values\n",
      "CAMEO_DEU_2015: 44 unique values\n"
     ]
    }
   ],
   "source": [
    "# Assess categorical variables: which are binary, which are multi-level, and\n",
    "# which one needs to be re-encoded?\n",
    "\n",
    "# # Check unique values for each categorical feature\n",
    "# for col in categorical_features:\n",
    "#     unique_values = gen_pop_data_cleaned[col].nunique()\n",
    "#     print(f\"{col}: {unique_values} unique values\")\n",
    "\n",
    "# Check for Missing Features\n",
    "\n",
    "# # Identify features in the list that are missing in the DataFrame\n",
    "# missing_features = [col for col in categorical_features if col not in gen_pop_data_cleaned.columns]\n",
    "\n",
    "# print(\"Missing Features:\", missing_features)\n",
    "\n",
    "\n",
    "# Check unique values for categorical features that exist in the cleaned DataFrame\n",
    "for col in [feature for feature in categorical_features if feature in gen_pop_data_cleaned.columns]:\n",
    "    unique_values = gen_pop_data_cleaned[col].nunique()\n",
    "    print(f\"{col}: {unique_values} unique values\")"
   ]
  },
  {
   "cell_type": "markdown",
   "metadata": {},
   "source": [
    "<span style=\"color:blue\">Convert Binary Non-Numeric Categorical Feature</span>\n"
   ]
  },
  {
   "cell_type": "code",
   "execution_count": 42,
   "metadata": {},
   "outputs": [
    {
     "name": "stdout",
     "output_type": "stream",
     "text": [
      "OST_WEST_KZ unique values: [nan 'W' 'O']\n",
      "Re-encoded OST_WEST_KZ as numeric.\n"
     ]
    }
   ],
   "source": [
    "# Re-encode categorical variable(s) to be kept in the analysis.\n",
    "\n",
    "# Check unique values\n",
    "print(\"OST_WEST_KZ unique values:\", gen_pop_data_cleaned[\"OST_WEST_KZ\"].unique())\n",
    "\n",
    "# Map values to numeric (assuming values are 'W' and 'O' → 0 and 1)\n",
    "gen_pop_data_cleaned[\"OST_WEST_KZ\"] = gen_pop_data_cleaned[\"OST_WEST_KZ\"].map({\"W\": 0, \"O\": 1})\n",
    "\n",
    "print(\"Re-encoded OST_WEST_KZ as numeric.\")\n"
   ]
  },
  {
   "cell_type": "markdown",
   "metadata": {},
   "source": [
    "<span style=\"color:blue\">One-Hot Encode Multi-Level Categorical Features </span>\n"
   ]
  },
  {
   "cell_type": "code",
   "execution_count": 43,
   "metadata": {},
   "outputs": [
    {
     "name": "stdout",
     "output_type": "stream",
     "text": [
      "One-hot encoded 9 multi-level categorical features.\n"
     ]
    }
   ],
   "source": [
    "# List of multi-level categorical features\n",
    "multi_level_categorical_features = [\"CJT_GESAMTTYP\", \"FINANZTYP\", \"GFK_URLAUBERTYP\", \"LP_FAMILIE_FEIN\",\n",
    "                                    \"LP_FAMILIE_GROB\", \"LP_STATUS_FEIN\", \"LP_STATUS_GROB\",\n",
    "                                    \"NATIONALITAET_KZ\", \"SHOPPER_TYP\"]\n",
    "\n",
    "# Apply one-hot encoding\n",
    "gen_pop_data_encoded = pd.get_dummies(gen_pop_data_cleaned, columns=multi_level_categorical_features, drop_first=True)\n",
    "\n",
    "print(f\"One-hot encoded {len(multi_level_categorical_features)} multi-level categorical features.\")\n"
   ]
  },
  {
   "cell_type": "markdown",
   "metadata": {},
   "source": [
    "<span style=\"color:blue\">Verify Encoding  </span>\n"
   ]
  },
  {
   "cell_type": "code",
   "execution_count": 44,
   "metadata": {},
   "outputs": [
    {
     "name": "stdout",
     "output_type": "stream",
     "text": [
      "\n",
      "Updated Data Types After Encoding:\n",
      "uint8      54\n",
      "float64    44\n",
      "int64      25\n",
      "object      3\n",
      "dtype: int64\n",
      "\n",
      "First 5 Rows of Processed Data:\n"
     ]
    },
    {
     "data": {
      "text/html": [
       "<div>\n",
       "<style scoped>\n",
       "    .dataframe tbody tr th:only-of-type {\n",
       "        vertical-align: middle;\n",
       "    }\n",
       "\n",
       "    .dataframe tbody tr th {\n",
       "        vertical-align: top;\n",
       "    }\n",
       "\n",
       "    .dataframe thead th {\n",
       "        text-align: right;\n",
       "    }\n",
       "</style>\n",
       "<table border=\"1\" class=\"dataframe\">\n",
       "  <thead>\n",
       "    <tr style=\"text-align: right;\">\n",
       "      <th></th>\n",
       "      <th>AGER_TYP</th>\n",
       "      <th>ALTERSKATEGORIE_GROB</th>\n",
       "      <th>ANREDE_KZ</th>\n",
       "      <th>FINANZ_MINIMALIST</th>\n",
       "      <th>FINANZ_SPARER</th>\n",
       "      <th>FINANZ_VORSORGER</th>\n",
       "      <th>FINANZ_ANLEGER</th>\n",
       "      <th>FINANZ_UNAUFFAELLIGER</th>\n",
       "      <th>FINANZ_HAUSBAUER</th>\n",
       "      <th>GREEN_AVANTGARDE</th>\n",
       "      <th>...</th>\n",
       "      <th>LP_STATUS_GROB_2.0</th>\n",
       "      <th>LP_STATUS_GROB_3.0</th>\n",
       "      <th>LP_STATUS_GROB_4.0</th>\n",
       "      <th>LP_STATUS_GROB_5.0</th>\n",
       "      <th>NATIONALITAET_KZ_2.0</th>\n",
       "      <th>NATIONALITAET_KZ_3.0</th>\n",
       "      <th>SHOPPER_TYP_0</th>\n",
       "      <th>SHOPPER_TYP_1</th>\n",
       "      <th>SHOPPER_TYP_2</th>\n",
       "      <th>SHOPPER_TYP_3</th>\n",
       "    </tr>\n",
       "  </thead>\n",
       "  <tbody>\n",
       "    <tr>\n",
       "      <th>0</th>\n",
       "      <td>-1.0</td>\n",
       "      <td>2.0</td>\n",
       "      <td>1</td>\n",
       "      <td>3</td>\n",
       "      <td>4</td>\n",
       "      <td>3</td>\n",
       "      <td>5</td>\n",
       "      <td>5</td>\n",
       "      <td>3</td>\n",
       "      <td>0</td>\n",
       "      <td>...</td>\n",
       "      <td>0</td>\n",
       "      <td>0</td>\n",
       "      <td>0</td>\n",
       "      <td>0</td>\n",
       "      <td>0</td>\n",
       "      <td>0</td>\n",
       "      <td>0</td>\n",
       "      <td>0</td>\n",
       "      <td>0</td>\n",
       "      <td>0</td>\n",
       "    </tr>\n",
       "    <tr>\n",
       "      <th>1</th>\n",
       "      <td>-1.0</td>\n",
       "      <td>1.0</td>\n",
       "      <td>2</td>\n",
       "      <td>1</td>\n",
       "      <td>5</td>\n",
       "      <td>2</td>\n",
       "      <td>5</td>\n",
       "      <td>4</td>\n",
       "      <td>5</td>\n",
       "      <td>0</td>\n",
       "      <td>...</td>\n",
       "      <td>0</td>\n",
       "      <td>0</td>\n",
       "      <td>0</td>\n",
       "      <td>0</td>\n",
       "      <td>0</td>\n",
       "      <td>0</td>\n",
       "      <td>0</td>\n",
       "      <td>0</td>\n",
       "      <td>0</td>\n",
       "      <td>1</td>\n",
       "    </tr>\n",
       "    <tr>\n",
       "      <th>2</th>\n",
       "      <td>-1.0</td>\n",
       "      <td>3.0</td>\n",
       "      <td>2</td>\n",
       "      <td>1</td>\n",
       "      <td>4</td>\n",
       "      <td>1</td>\n",
       "      <td>2</td>\n",
       "      <td>3</td>\n",
       "      <td>5</td>\n",
       "      <td>1</td>\n",
       "      <td>...</td>\n",
       "      <td>1</td>\n",
       "      <td>0</td>\n",
       "      <td>0</td>\n",
       "      <td>0</td>\n",
       "      <td>0</td>\n",
       "      <td>0</td>\n",
       "      <td>0</td>\n",
       "      <td>0</td>\n",
       "      <td>1</td>\n",
       "      <td>0</td>\n",
       "    </tr>\n",
       "    <tr>\n",
       "      <th>3</th>\n",
       "      <td>2.0</td>\n",
       "      <td>4.0</td>\n",
       "      <td>2</td>\n",
       "      <td>4</td>\n",
       "      <td>2</td>\n",
       "      <td>5</td>\n",
       "      <td>2</td>\n",
       "      <td>1</td>\n",
       "      <td>2</td>\n",
       "      <td>0</td>\n",
       "      <td>...</td>\n",
       "      <td>0</td>\n",
       "      <td>0</td>\n",
       "      <td>1</td>\n",
       "      <td>0</td>\n",
       "      <td>0</td>\n",
       "      <td>0</td>\n",
       "      <td>0</td>\n",
       "      <td>1</td>\n",
       "      <td>0</td>\n",
       "      <td>0</td>\n",
       "    </tr>\n",
       "    <tr>\n",
       "      <th>4</th>\n",
       "      <td>-1.0</td>\n",
       "      <td>3.0</td>\n",
       "      <td>1</td>\n",
       "      <td>4</td>\n",
       "      <td>3</td>\n",
       "      <td>4</td>\n",
       "      <td>1</td>\n",
       "      <td>3</td>\n",
       "      <td>2</td>\n",
       "      <td>0</td>\n",
       "      <td>...</td>\n",
       "      <td>1</td>\n",
       "      <td>0</td>\n",
       "      <td>0</td>\n",
       "      <td>0</td>\n",
       "      <td>0</td>\n",
       "      <td>0</td>\n",
       "      <td>0</td>\n",
       "      <td>0</td>\n",
       "      <td>1</td>\n",
       "      <td>0</td>\n",
       "    </tr>\n",
       "  </tbody>\n",
       "</table>\n",
       "<p>5 rows × 126 columns</p>\n",
       "</div>"
      ],
      "text/plain": [
       "   AGER_TYP  ALTERSKATEGORIE_GROB  ANREDE_KZ  FINANZ_MINIMALIST  \\\n",
       "0      -1.0                   2.0          1                  3   \n",
       "1      -1.0                   1.0          2                  1   \n",
       "2      -1.0                   3.0          2                  1   \n",
       "3       2.0                   4.0          2                  4   \n",
       "4      -1.0                   3.0          1                  4   \n",
       "\n",
       "   FINANZ_SPARER  FINANZ_VORSORGER  FINANZ_ANLEGER  FINANZ_UNAUFFAELLIGER  \\\n",
       "0              4                 3               5                      5   \n",
       "1              5                 2               5                      4   \n",
       "2              4                 1               2                      3   \n",
       "3              2                 5               2                      1   \n",
       "4              3                 4               1                      3   \n",
       "\n",
       "   FINANZ_HAUSBAUER  GREEN_AVANTGARDE      ...        LP_STATUS_GROB_2.0  \\\n",
       "0                 3                 0      ...                         0   \n",
       "1                 5                 0      ...                         0   \n",
       "2                 5                 1      ...                         1   \n",
       "3                 2                 0      ...                         0   \n",
       "4                 2                 0      ...                         1   \n",
       "\n",
       "   LP_STATUS_GROB_3.0  LP_STATUS_GROB_4.0  LP_STATUS_GROB_5.0  \\\n",
       "0                   0                   0                   0   \n",
       "1                   0                   0                   0   \n",
       "2                   0                   0                   0   \n",
       "3                   0                   1                   0   \n",
       "4                   0                   0                   0   \n",
       "\n",
       "   NATIONALITAET_KZ_2.0  NATIONALITAET_KZ_3.0  SHOPPER_TYP_0  SHOPPER_TYP_1  \\\n",
       "0                     0                     0              0              0   \n",
       "1                     0                     0              0              0   \n",
       "2                     0                     0              0              0   \n",
       "3                     0                     0              0              1   \n",
       "4                     0                     0              0              0   \n",
       "\n",
       "   SHOPPER_TYP_2  SHOPPER_TYP_3  \n",
       "0              0              0  \n",
       "1              0              1  \n",
       "2              1              0  \n",
       "3              0              0  \n",
       "4              1              0  \n",
       "\n",
       "[5 rows x 126 columns]"
      ]
     },
     "metadata": {},
     "output_type": "display_data"
    }
   ],
   "source": [
    "# Check if categorical columns are now numeric\n",
    "print(\"\\nUpdated Data Types After Encoding:\")\n",
    "print(gen_pop_data_encoded.dtypes.value_counts())\n",
    "\n",
    "# Display first few rows\n",
    "print(\"\\nFirst 5 Rows of Processed Data:\")\n",
    "display(gen_pop_data_encoded.head())\n"
   ]
  },
  {
   "cell_type": "markdown",
   "metadata": {},
   "source": [
    "#### Discussion 1.2.1: Re-Encode Categorical Features\n",
    "\n",
    "- Which ones did you keep:\n",
    "(Binary Features)\n",
    "These features had only two unique values, kept as-is (if numeric) or converted (if non-numeric).\n",
    "ANREDE_KZ           Kept as is \n",
    "GREEN_AVANTGARDE\tKept as is\n",
    "SOHO_KZ\t2\t        Kept as is \n",
    "OST_WEST_KZ\t        Converted to numeric (0,1)\n",
    "\n",
    "(Multi-Level Features)\n",
    "For categorical features with three or more unique values, we one-hot encoded them.\n",
    "CJT_GESAMTTYP\t    Unique Value 6\tOne-hot encoded\n",
    "FINANZTYP\t        Unique Value 6\tOne-hot encoded\n",
    "GFK_URLAUBERTYP\t    Unique Value 12\tOne-hot encoded\n",
    "LP_FAMILIE_FEIN\t    Unique Value 11\tOne-hot encoded\n",
    "LP_FAMILIE_GROB\t    Unique Value  5\tOne-hot encoded\n",
    "LP_STATUS_FEIN\t    Unique Value 10\tOne-hot encoded\n",
    "LP_STATUS_GROB\t    Unique Value  5\tOne-hot encoded\n",
    "NATIONALITAET_KZ\tUnique Value  3\tOne-hot encoded\n",
    "SHOPPER_TYP         Unique Value  5 One-hot encoded\n",
    "\n",
    "- Which did you drop:\n",
    "Any categorical feature with excessive missing values (40%+ missing data).\n",
    "\n",
    "Features with many unique values that would create too many dummy variables.\n",
    "\n",
    "If any features were removed - documented as part of our missing data analysis.\n",
    "\n",
    "- What engineering steps did you perform:\n",
    "Step 1: Converted Non-Numeric Binary Feature (OST_WEST_KZ had values \"W\" and \"O\", which were mapped to 0 and 1).\n",
    "Step 2: One-Hot Encoded for Multi-Level Features \n",
    "    Applied pd.get_dummies() to categorical features with 3+ unique values.\n",
    "    Used drop_first=True to avoid the dummy variable trap (redundancy)."
   ]
  },
  {
   "cell_type": "markdown",
   "metadata": {},
   "source": [
    "#### Step 1.2.2: Engineer Mixed-Type Features\n",
    "\n",
    "There are a handful of features that are marked as \"mixed\" in the feature summary that require special treatment in order to be included in the analysis. There are two in particular that deserve attention; the handling of the rest are up to your own choices:\n",
    "- \"PRAEGENDE_JUGENDJAHRE\" combines information on three dimensions: generation by decade, movement (mainstream vs. avantgarde), and nation (east vs. west). While there aren't enough levels to disentangle east from west, you should create two new variables to capture the other two dimensions: an interval-type variable for decade, and a binary variable for movement.\n",
    "- \"CAMEO_INTL_2015\" combines information on two axes: wealth and life stage. Break up the two-digit codes by their 'tens'-place and 'ones'-place digits into two new ordinal variables (which, for the purposes of this project, is equivalent to just treating them as their raw numeric values).\n",
    "- If you decide to keep or engineer new features around the other mixed-type features, make sure you note your steps in the Discussion section.\n",
    "\n",
    "Be sure to check `Data_Dictionary.md` for the details needed to finish these tasks."
   ]
  },
  {
   "cell_type": "markdown",
   "metadata": {},
   "source": [
    "<span style=\"color:blue\">Engineer \"PRAEGENDE_JUGENDJAHRE\" </span>\n"
   ]
  },
  {
   "cell_type": "code",
   "execution_count": 45,
   "metadata": {},
   "outputs": [
    {
     "name": "stdout",
     "output_type": "stream",
     "text": [
      "Engineered 'DECADE' and 'MOVEMENT' from 'PRAEGENDE_JUGENDJAHRE'.\n"
     ]
    }
   ],
   "source": [
    "# Investigate \"PRAEGENDE_JUGENDJAHRE\" and engineer two new variables.\n",
    "\n",
    "# Decade of adolescence (e.g., 40s, 50s, 60s, etc.).\n",
    "# Movement type (Mainstream vs. Avantgarde).\n",
    "\n",
    "# Extract the decade (first digit)\n",
    "gen_pop_data_cleaned[\"DECADE\"] = gen_pop_data_cleaned[\"PRAEGENDE_JUGENDJAHRE\"] // 10  # Integer division\n",
    "\n",
    "# Extract movement type (second digit) - Mainstream (0) vs. Avantgarde (1)\n",
    "gen_pop_data_cleaned[\"MOVEMENT\"] = gen_pop_data_cleaned[\"PRAEGENDE_JUGENDJAHRE\"] % 10  # Modulo to get last digit\n",
    "\n",
    "# Drop original column\n",
    "gen_pop_data_cleaned = gen_pop_data_cleaned.drop(columns=[\"PRAEGENDE_JUGENDJAHRE\"])\n",
    "\n",
    "print(\"Engineered 'DECADE' and 'MOVEMENT' from 'PRAEGENDE_JUGENDJAHRE'.\")\n"
   ]
  },
  {
   "cell_type": "markdown",
   "metadata": {},
   "source": [
    "<span style=\"color:blue\">Engineer \"CAMEO_INTL_2015\" </span>\n"
   ]
  },
  {
   "cell_type": "code",
   "execution_count": 46,
   "metadata": {},
   "outputs": [
    {
     "name": "stdout",
     "output_type": "stream",
     "text": [
      "Unique values in CAMEO_INTL_2015:\n",
      " [nan '51' '24' '12' '43' '54' '22' '14' '13' '15' '33' '41' '34' '55' '25'\n",
      " '23' '31' '52' '35' '45' '44' '32']\n"
     ]
    }
   ],
   "source": [
    "# error \"could not convert string to float: 'n'\" \n",
    "\n",
    "# Display unique values\n",
    "print(\"Unique values in CAMEO_INTL_2015:\\n\", gen_pop_data_cleaned[\"CAMEO_INTL_2015\"].unique())"
   ]
  },
  {
   "cell_type": "code",
   "execution_count": 47,
   "metadata": {},
   "outputs": [
    {
     "name": "stdout",
     "output_type": "stream",
     "text": [
      "Successfully engineered 'CAMEO_WEALTH' and 'CAMEO_LIFESTAGE'.\n"
     ]
    }
   ],
   "source": [
    "# Investigate \"CAMEO_INTL_2015\" and engineer two new variables.\n",
    "\n",
    "# Wealth (first digit)\n",
    "# Life Stage (second digit)\n",
    "\n",
    "# Ensure column is treated as string for extraction\n",
    "gen_pop_data_cleaned[\"CAMEO_INTL_2015\"] = gen_pop_data_cleaned[\"CAMEO_INTL_2015\"].astype(str)\n",
    "\n",
    "# Handle NaN values properly before conversion\n",
    "gen_pop_data_cleaned[\"CAMEO_INTL_2015\"] = gen_pop_data_cleaned[\"CAMEO_INTL_2015\"].replace(\"nan\", np.nan)\n",
    "\n",
    "# Extract first digit (Wealth) and convert to numeric\n",
    "gen_pop_data_cleaned[\"CAMEO_WEALTH\"] = gen_pop_data_cleaned[\"CAMEO_INTL_2015\"].str[0].astype(float)\n",
    "\n",
    "# Extract second digit (Life Stage) and convert to numeric\n",
    "gen_pop_data_cleaned[\"CAMEO_LIFESTAGE\"] = gen_pop_data_cleaned[\"CAMEO_INTL_2015\"].str[1].astype(float)\n",
    "\n",
    "# Drop original column\n",
    "gen_pop_data_cleaned = gen_pop_data_cleaned.drop(columns=[\"CAMEO_INTL_2015\"])\n",
    "\n",
    "print(\"Successfully engineered 'CAMEO_WEALTH' and 'CAMEO_LIFESTAGE'.\")"
   ]
  },
  {
   "cell_type": "code",
   "execution_count": 48,
   "metadata": {},
   "outputs": [
    {
     "name": "stdout",
     "output_type": "stream",
     "text": [
      "Mixed-Type Features Kept After Engineering:\n",
      " ['DECADE', 'MOVEMENT', 'CAMEO_WEALTH', 'CAMEO_LIFESTAGE']\n"
     ]
    }
   ],
   "source": [
    "# List of original mixed-type features\n",
    "original_mixed_features = [\"PRAEGENDE_JUGENDJAHRE\", \"CAMEO_INTL_2015\"]\n",
    "\n",
    "# List of new engineered features\n",
    "engineered_mixed_features = [\"DECADE\", \"MOVEMENT\", \"CAMEO_WEALTH\", \"CAMEO_LIFESTAGE\"]\n",
    "\n",
    "# Check which mixed-type features exist in the cleaned dataset\n",
    "kept_features = [feature for feature in engineered_mixed_features if feature in gen_pop_data_cleaned.columns]\n",
    "\n",
    "print(\"Mixed-Type Features Kept After Engineering:\\n\", kept_features)\n"
   ]
  },
  {
   "cell_type": "markdown",
   "metadata": {},
   "source": [
    "#### Discussion 1.2.2: Engineer Mixed-Type Features\n",
    "\n",
    "- Which ones did you keep:\n",
    "Two key mixed-type features\n",
    "PRAEGENDE_JUGENDJAHRE / Captures decade of adolescence and movement type/ Two Variables: DECADE (Ordinal) & MOVEMENT (Binary)\n",
    "\n",
    "CAMEO_INTL_2015 / Combines wealth (1st digit) & life stage (2nd digit) / Two Varialbes: CAMEO_WEALTH (Ordinal) & CAMEO_LIFESTAGE (Ordinal)\n",
    "\n",
    "- Which did you drop:\n",
    "No additional mixed-type features were found that required re-encoding.\n",
    "\n",
    "Any mixed features that had excessive missing values (>40%) - removed in the earlier preprocessing step.\n",
    "\n",
    "- What engineering steps did you perform?\n",
    "PRAEGENDE_JUGENDJAHRE - This feature encoded two separate pieces of information (Kept as two separate numeric variables):\n",
    "    Decade of adolescence (First digit: e.g., 1X, 2X, etc.).\n",
    "    Movement type (Second digit: Mainstream (0) vs. Avantgarde (1)).\n",
    "\n",
    "CAMEO_INTL_2015 - This feature encoded (Kept as two separate numeric variables):\n",
    "    Wealth (first digit)\n",
    "    Life Stage (second digit)"
   ]
  },
  {
   "cell_type": "markdown",
   "metadata": {},
   "source": [
    "#### Step 1.2.3: Complete Feature Selection\n",
    "\n",
    "In order to finish this step up, you need to make sure that your data frame now only has the columns that you want to keep. To summarize, the dataframe should consist of the following:\n",
    "- All numeric, interval, and ordinal type columns from the original dataset.\n",
    "- Binary categorical features (all numerically-encoded).\n",
    "- Engineered features from other multi-level categorical features and mixed features.\n",
    "\n",
    "Make sure that for any new columns that you have engineered, that you've excluded the original columns from the final dataset. Otherwise, their values will interfere with the analysis later on the project. For example, you should not keep \"PRAEGENDE_JUGENDJAHRE\", since its values won't be useful for the algorithm: only the values derived from it in the engineered features you created should be retained. As a reminder, your data should only be from **the subset with few or no missing values**."
   ]
  },
  {
   "cell_type": "markdown",
   "metadata": {},
   "source": [
    "<span style=\"color:blue\">Select Final Columns</span>\n"
   ]
  },
  {
   "cell_type": "code",
   "execution_count": 49,
   "metadata": {},
   "outputs": [
    {
     "name": "stdout",
     "output_type": "stream",
     "text": [
      "Final Dataset Shape: (891221, 63)\n"
     ]
    },
    {
     "data": {
      "text/html": [
       "<div>\n",
       "<style scoped>\n",
       "    .dataframe tbody tr th:only-of-type {\n",
       "        vertical-align: middle;\n",
       "    }\n",
       "\n",
       "    .dataframe tbody tr th {\n",
       "        vertical-align: top;\n",
       "    }\n",
       "\n",
       "    .dataframe thead th {\n",
       "        text-align: right;\n",
       "    }\n",
       "</style>\n",
       "<table border=\"1\" class=\"dataframe\">\n",
       "  <thead>\n",
       "    <tr style=\"text-align: right;\">\n",
       "      <th></th>\n",
       "      <th>ALTERSKATEGORIE_GROB</th>\n",
       "      <th>FINANZ_MINIMALIST</th>\n",
       "      <th>FINANZ_SPARER</th>\n",
       "      <th>FINANZ_VORSORGER</th>\n",
       "      <th>FINANZ_ANLEGER</th>\n",
       "      <th>FINANZ_UNAUFFAELLIGER</th>\n",
       "      <th>FINANZ_HAUSBAUER</th>\n",
       "      <th>HEALTH_TYP</th>\n",
       "      <th>RETOURTYP_BK_S</th>\n",
       "      <th>SEMIO_SOZ</th>\n",
       "      <th>...</th>\n",
       "      <th>ORTSGR_KLS9</th>\n",
       "      <th>RELAT_AB</th>\n",
       "      <th>ANREDE_KZ</th>\n",
       "      <th>GREEN_AVANTGARDE</th>\n",
       "      <th>SOHO_KZ</th>\n",
       "      <th>OST_WEST_KZ</th>\n",
       "      <th>DECADE</th>\n",
       "      <th>MOVEMENT</th>\n",
       "      <th>CAMEO_WEALTH</th>\n",
       "      <th>CAMEO_LIFESTAGE</th>\n",
       "    </tr>\n",
       "  </thead>\n",
       "  <tbody>\n",
       "    <tr>\n",
       "      <th>0</th>\n",
       "      <td>2.0</td>\n",
       "      <td>3</td>\n",
       "      <td>4</td>\n",
       "      <td>3</td>\n",
       "      <td>5</td>\n",
       "      <td>5</td>\n",
       "      <td>3</td>\n",
       "      <td>-1</td>\n",
       "      <td>5.0</td>\n",
       "      <td>2</td>\n",
       "      <td>...</td>\n",
       "      <td>NaN</td>\n",
       "      <td>NaN</td>\n",
       "      <td>1</td>\n",
       "      <td>0</td>\n",
       "      <td>NaN</td>\n",
       "      <td>NaN</td>\n",
       "      <td>NaN</td>\n",
       "      <td>NaN</td>\n",
       "      <td>NaN</td>\n",
       "      <td>NaN</td>\n",
       "    </tr>\n",
       "    <tr>\n",
       "      <th>1</th>\n",
       "      <td>1.0</td>\n",
       "      <td>1</td>\n",
       "      <td>5</td>\n",
       "      <td>2</td>\n",
       "      <td>5</td>\n",
       "      <td>4</td>\n",
       "      <td>5</td>\n",
       "      <td>3</td>\n",
       "      <td>1.0</td>\n",
       "      <td>5</td>\n",
       "      <td>...</td>\n",
       "      <td>5.0</td>\n",
       "      <td>4.0</td>\n",
       "      <td>2</td>\n",
       "      <td>0</td>\n",
       "      <td>1.0</td>\n",
       "      <td>0.0</td>\n",
       "      <td>1.0</td>\n",
       "      <td>4.0</td>\n",
       "      <td>5.0</td>\n",
       "      <td>1.0</td>\n",
       "    </tr>\n",
       "    <tr>\n",
       "      <th>2</th>\n",
       "      <td>3.0</td>\n",
       "      <td>1</td>\n",
       "      <td>4</td>\n",
       "      <td>1</td>\n",
       "      <td>2</td>\n",
       "      <td>3</td>\n",
       "      <td>5</td>\n",
       "      <td>3</td>\n",
       "      <td>3.0</td>\n",
       "      <td>4</td>\n",
       "      <td>...</td>\n",
       "      <td>5.0</td>\n",
       "      <td>2.0</td>\n",
       "      <td>2</td>\n",
       "      <td>1</td>\n",
       "      <td>0.0</td>\n",
       "      <td>0.0</td>\n",
       "      <td>1.0</td>\n",
       "      <td>5.0</td>\n",
       "      <td>2.0</td>\n",
       "      <td>4.0</td>\n",
       "    </tr>\n",
       "    <tr>\n",
       "      <th>3</th>\n",
       "      <td>4.0</td>\n",
       "      <td>4</td>\n",
       "      <td>2</td>\n",
       "      <td>5</td>\n",
       "      <td>2</td>\n",
       "      <td>1</td>\n",
       "      <td>2</td>\n",
       "      <td>2</td>\n",
       "      <td>2.0</td>\n",
       "      <td>5</td>\n",
       "      <td>...</td>\n",
       "      <td>3.0</td>\n",
       "      <td>3.0</td>\n",
       "      <td>2</td>\n",
       "      <td>0</td>\n",
       "      <td>0.0</td>\n",
       "      <td>0.0</td>\n",
       "      <td>0.0</td>\n",
       "      <td>8.0</td>\n",
       "      <td>1.0</td>\n",
       "      <td>2.0</td>\n",
       "    </tr>\n",
       "    <tr>\n",
       "      <th>4</th>\n",
       "      <td>3.0</td>\n",
       "      <td>4</td>\n",
       "      <td>3</td>\n",
       "      <td>4</td>\n",
       "      <td>1</td>\n",
       "      <td>3</td>\n",
       "      <td>2</td>\n",
       "      <td>3</td>\n",
       "      <td>5.0</td>\n",
       "      <td>6</td>\n",
       "      <td>...</td>\n",
       "      <td>6.0</td>\n",
       "      <td>5.0</td>\n",
       "      <td>1</td>\n",
       "      <td>0</td>\n",
       "      <td>0.0</td>\n",
       "      <td>0.0</td>\n",
       "      <td>0.0</td>\n",
       "      <td>8.0</td>\n",
       "      <td>4.0</td>\n",
       "      <td>3.0</td>\n",
       "    </tr>\n",
       "  </tbody>\n",
       "</table>\n",
       "<p>5 rows × 63 columns</p>\n",
       "</div>"
      ],
      "text/plain": [
       "   ALTERSKATEGORIE_GROB  FINANZ_MINIMALIST  FINANZ_SPARER  FINANZ_VORSORGER  \\\n",
       "0                   2.0                  3              4                 3   \n",
       "1                   1.0                  1              5                 2   \n",
       "2                   3.0                  1              4                 1   \n",
       "3                   4.0                  4              2                 5   \n",
       "4                   3.0                  4              3                 4   \n",
       "\n",
       "   FINANZ_ANLEGER  FINANZ_UNAUFFAELLIGER  FINANZ_HAUSBAUER  HEALTH_TYP  \\\n",
       "0               5                      5                 3          -1   \n",
       "1               5                      4                 5           3   \n",
       "2               2                      3                 5           3   \n",
       "3               2                      1                 2           2   \n",
       "4               1                      3                 2           3   \n",
       "\n",
       "   RETOURTYP_BK_S  SEMIO_SOZ       ...         ORTSGR_KLS9  RELAT_AB  \\\n",
       "0             5.0          2       ...                 NaN       NaN   \n",
       "1             1.0          5       ...                 5.0       4.0   \n",
       "2             3.0          4       ...                 5.0       2.0   \n",
       "3             2.0          5       ...                 3.0       3.0   \n",
       "4             5.0          6       ...                 6.0       5.0   \n",
       "\n",
       "   ANREDE_KZ  GREEN_AVANTGARDE  SOHO_KZ  OST_WEST_KZ  DECADE  MOVEMENT  \\\n",
       "0          1                 0      NaN          NaN     NaN       NaN   \n",
       "1          2                 0      1.0          0.0     1.0       4.0   \n",
       "2          2                 1      0.0          0.0     1.0       5.0   \n",
       "3          2                 0      0.0          0.0     0.0       8.0   \n",
       "4          1                 0      0.0          0.0     0.0       8.0   \n",
       "\n",
       "   CAMEO_WEALTH  CAMEO_LIFESTAGE  \n",
       "0           NaN              NaN  \n",
       "1           5.0              1.0  \n",
       "2           2.0              4.0  \n",
       "3           1.0              2.0  \n",
       "4           4.0              3.0  \n",
       "\n",
       "[5 rows x 63 columns]"
      ]
     },
     "metadata": {},
     "output_type": "display_data"
    }
   ],
   "source": [
    "# If there are other re-engineering tasks you need to perform, make sure you\n",
    "# take care of them here. (Dealing with missing data will come in step 2.1.)\n",
    "\n",
    "# Retrieve the original feature list from feature summary\n",
    "numeric_features = feature_sum_data[feature_sum_data[\"type\"].isin([\"numeric\", \"ordinal\"])][\"attribute\"].tolist()\n",
    "\n",
    "# Ensure only existing numeric/ordinal features are selected\n",
    "numeric_features = [col for col in numeric_features if col in gen_pop_data_cleaned.columns]\n",
    "\n",
    "# List of binary categorical features (already numeric)\n",
    "binary_categorical_features = [\"ANREDE_KZ\", \"GREEN_AVANTGARDE\", \"SOHO_KZ\", \"OST_WEST_KZ\"]\n",
    "\n",
    "# List of engineered features\n",
    "engineered_features = [\"DECADE\", \"MOVEMENT\", \"CAMEO_WEALTH\", \"CAMEO_LIFESTAGE\"]\n",
    "\n",
    "# Create final list of features to keep\n",
    "final_features = numeric_features + binary_categorical_features + engineered_features\n",
    "\n",
    "# Ensure only existing columns are selected\n",
    "final_features = [col for col in final_features if col in gen_pop_data_cleaned.columns]\n",
    "\n",
    "# Create final cleaned dataset\n",
    "gen_pop_data_final = gen_pop_data_cleaned[final_features]\n",
    "\n",
    "# Display final dataset shape and first few rows\n",
    "print(f\"Final Dataset Shape: {gen_pop_data_final.shape}\")\n",
    "display(gen_pop_data_final.head())\n"
   ]
  },
  {
   "cell_type": "markdown",
   "metadata": {},
   "source": [
    "<span style=\"color:blue\">Verify Feature Selection  </span>\n"
   ]
  },
  {
   "cell_type": "code",
   "execution_count": 50,
   "metadata": {},
   "outputs": [
    {
     "name": "stdout",
     "output_type": "stream",
     "text": [
      "Final Data Types:\n",
      " float64    40\n",
      "int64      23\n",
      "dtype: int64\n",
      "\n",
      "Remaining Categorical Columns (Should be empty): []\n"
     ]
    }
   ],
   "source": [
    "# Do whatever you need to in order to ensure that the dataframe only contains\n",
    "# the columns that should be passed to the algorithm functions.\n",
    "\n",
    "# Check if all columns are numeric \n",
    "print(\"Final Data Types:\\n\", gen_pop_data_final.dtypes.value_counts())\n",
    "\n",
    "# Check for any remaining categorical features \n",
    "remaining_object_columns = gen_pop_data_final.select_dtypes(include=[\"object\"]).columns.tolist()\n",
    "print(\"\\nRemaining Categorical Columns (Should be empty):\", remaining_object_columns)\n"
   ]
  },
  {
   "cell_type": "markdown",
   "metadata": {},
   "source": [
    "### Step 1.3: Create a Cleaning Function\n",
    "\n",
    "Even though you've finished cleaning up the general population demographics data, it's important to look ahead to the future and realize that you'll need to perform the same cleaning steps on the customer demographics data. In this substep, complete the function below to execute the main feature selection, encoding, and re-engineering steps you performed above. Then, when it comes to looking at the customer data in Step 3, you can just run this function on that DataFrame to get the trimmed dataset in a single step."
   ]
  },
  {
   "cell_type": "code",
   "execution_count": 51,
   "metadata": {},
   "outputs": [],
   "source": [
    "def clean_data(df, feature_summary):\n",
    "    \"\"\"\n",
    "    Perform feature trimming, re-encoding, and engineering for demographics data.\n",
    "    \n",
    "    INPUT: \n",
    "        df (DataFrame) - Raw demographics dataset (general population or customers)\n",
    "        feature_summary (DataFrame) - Feature summary file\n",
    "    \n",
    "    OUTPUT: \n",
    "        df_cleaned (DataFrame) - Cleaned demographics dataset\n",
    "    \"\"\"\n",
    "    \n",
    "    # Convert missing value codes into NaNs\n",
    "    missing_values_dict = {}\n",
    "\n",
    "    for index, row in feature_summary.iterrows():\n",
    "        if pd.notna(row[\"missing_or_unknown\"]):  # Ensure not NaN\n",
    "            missing_values = row[\"missing_or_unknown\"].strip(\"[]\").split(\",\")\n",
    "            missing_values = [int(value) if value.strip().isdigit() else value.strip() for value in missing_values]\n",
    "            missing_values_dict[row[\"attribute\"]] = missing_values\n",
    "    \n",
    "    # Remove selected columns and rows\n",
    "    for col, missing_vals in missing_values_dict.items():\n",
    "        if col in df.columns:\n",
    "            df[col] = df[col].replace(missing_vals, np.nan)\n",
    "    \n",
    "    missing_percent = df.isnull().sum() / len(df)\n",
    "    cols_to_drop = missing_percent[missing_percent > 0.40].index\n",
    "    df = df.drop(columns=cols_to_drop)\n",
    "    \n",
    "    row_threshold = 0.30 * df.shape[1]  # More than 30% missing\n",
    "    df = df[df.isnull().sum(axis=1) <= row_threshold]\n",
    "    \n",
    "    # Re-Encode Categorical Features\n",
    "    categorical_features = feature_summary[feature_summary[\"type\"] == \"categorical\"][\"attribute\"].tolist()\n",
    "    categorical_features = [col for col in categorical_features if col in df.columns]\n",
    "\n",
    "    binary_categorical_features = [col for col in categorical_features if df[col].nunique() == 2]\n",
    "\n",
    "    for col in binary_categorical_features:\n",
    "        if df[col].dtype == 'object':\n",
    "            unique_vals = df[col].unique()\n",
    "            mapping = {unique_vals[0]: 0, unique_vals[1]: 1}\n",
    "            df[col] = df[col].map(mapping)\n",
    "\n",
    "    # One-hot encode multi-level categorical features\n",
    "    multi_level_categorical_features = [col for col in categorical_features if df[col].nunique() > 2]\n",
    "    df = pd.get_dummies(df, columns=multi_level_categorical_features, drop_first=True)\n",
    "\n",
    "    # Engineer Mixed-Type Features\n",
    "    if \"PRAEGENDE_JUGENDJAHRE\" in df.columns:\n",
    "        df[\"DECADE\"] = df[\"PRAEGENDE_JUGENDJAHRE\"] // 10\n",
    "        df[\"MOVEMENT\"] = df[\"PRAEGENDE_JUGENDJAHRE\"] % 10\n",
    "        df = df.drop(columns=[\"PRAEGENDE_JUGENDJAHRE\"])\n",
    "\n",
    "    if \"CAMEO_INTL_2015\" in df.columns:\n",
    "        df[\"CAMEO_INTL_2015\"] = df[\"CAMEO_INTL_2015\"].astype(str).replace(\"nan\", np.nan)\n",
    "        df[\"CAMEO_WEALTH\"] = df[\"CAMEO_INTL_2015\"].str[0].astype(float)\n",
    "        df[\"CAMEO_LIFESTAGE\"] = df[\"CAMEO_INTL_2015\"].str[1].astype(float)\n",
    "        df = df.drop(columns=[\"CAMEO_INTL_2015\"])\n",
    "\n",
    "    # Select Final Features\n",
    "    numeric_features = feature_summary[feature_summary[\"type\"].isin([\"numeric\", \"ordinal\"])][\"attribute\"].tolist()\n",
    "    numeric_features = [col for col in numeric_features if col in df.columns]\n",
    "\n",
    "    binary_features = [\"ANREDE_KZ\", \"GREEN_AVANTGARDE\", \"SOHO_KZ\", \"OST_WEST_KZ\"]\n",
    "\n",
    "    engineered_features = [\"DECADE\", \"MOVEMENT\", \"CAMEO_WEALTH\", \"CAMEO_LIFESTAGE\"]\n",
    "\n",
    "    final_features = numeric_features + binary_features + engineered_features\n",
    "    final_features = [col for col in final_features if col in df.columns]\n",
    "    \n",
    "    df_cleaned = df[final_features]\n",
    "\n",
    "    print(f\"Final Cleaned Data Shape: {df_cleaned.shape}\")\n",
    "    return df_cleaned\n"
   ]
  },
  {
   "cell_type": "code",
   "execution_count": 52,
   "metadata": {},
   "outputs": [
    {
     "name": "stdout",
     "output_type": "stream",
     "text": [
      "Final Cleaned Data Shape: (797921, 63)\n"
     ]
    }
   ],
   "source": [
    "gen_pop_data_cleaned = clean_data(gen_pop_data, feature_sum_data)"
   ]
  },
  {
   "cell_type": "markdown",
   "metadata": {},
   "source": [
    "## **Step 2: Feature Transformation\n",
    "\n",
    "### Step 2.1: Apply Feature Scaling\n",
    "\n",
    "Before we apply dimensionality reduction techniques to the data, we need to perform feature scaling so that the principal component vectors are not influenced by the natural differences in scale for features. Starting from this part of the project, you'll want to keep an eye on the [API reference page for sklearn](http://scikit-learn.org/stable/modules/classes.html) to help you navigate to all of the classes and functions that you'll need. In this substep, you'll need to check the following:\n",
    "\n",
    "- sklearn requires that data not have missing values in order for its estimators to work properly. So, before applying the scaler to your data, make sure that you've cleaned the DataFrame of the remaining missing values. This can be as simple as just removing all data points with missing data, or applying an [Imputer](https://scikit-learn.org/0.16/modules/generated/sklearn.preprocessing.Imputer.html) to replace all missing values. You might also try a more complicated procedure where you temporarily remove missing values in order to compute the scaling parameters before re-introducing those missing values and applying imputation. Think about how much missing data you have and what possible effects each approach might have on your analysis, and justify your decision in the discussion section below.\n",
    "- For the actual scaling function, a [StandardScaler](http://scikit-learn.org/stable/modules/generated/sklearn.preprocessing.StandardScaler.html) instance is suggested, scaling each feature to mean 0 and standard deviation 1.\n",
    "- For these classes, you can make use of the `.fit_transform()` method to both fit a procedure to the data as well as apply the transformation to the data at the same time. Don't forget to keep the fit sklearn objects handy, since you'll be applying them to the customer demographics data towards the end of the project."
   ]
  },
  {
   "cell_type": "code",
   "execution_count": 53,
   "metadata": {},
   "outputs": [
    {
     "name": "stdout",
     "output_type": "stream",
     "text": [
      "Final Cleaned Data Shape: (797921, 63)\n",
      "✅ gen_pop_data_final is now restored. Shape: (797921, 63)\n"
     ]
    }
   ],
   "source": [
    "# Reload the original datasets\n",
    "gen_pop_data = pd.read_csv(\"Udacity_AZDIAS_Subset.csv\", sep=\";\", low_memory=False)\n",
    "feature_sum_data = pd.read_csv(\"AZDIAS_Feature_Summary.csv\", sep=\";\", low_memory=False)\n",
    "\n",
    "# Run the cleaning function\n",
    "gen_pop_data_cleaned = clean_data(gen_pop_data, feature_sum_data)\n",
    "\n",
    "# Retrieve numeric, binary, and engineered features\n",
    "numeric_features = feature_sum_data[feature_sum_data[\"type\"].isin([\"numeric\", \"ordinal\"])][\"attribute\"].tolist()\n",
    "numeric_features = [col for col in numeric_features if col in gen_pop_data_cleaned.columns]\n",
    "\n",
    "binary_features = [\"ANREDE_KZ\", \"GREEN_AVANTGARDE\", \"SOHO_KZ\", \"OST_WEST_KZ\"]\n",
    "engineered_features = [\"DECADE\", \"MOVEMENT\", \"CAMEO_WEALTH\", \"CAMEO_LIFESTAGE\"]\n",
    "\n",
    "# Define the final dataset\n",
    "final_features = numeric_features + binary_features + engineered_features\n",
    "final_features = [col for col in final_features if col in gen_pop_data_cleaned.columns]\n",
    "\n",
    "gen_pop_data_final = gen_pop_data_cleaned[final_features]\n",
    "\n",
    "# Verify restoration\n",
    "print(f\"✅ gen_pop_data_final is now restored. Shape: {gen_pop_data_final.shape}\")\n",
    "\n"
   ]
  },
  {
   "cell_type": "code",
   "execution_count": 54,
   "metadata": {},
   "outputs": [
    {
     "name": "stdout",
     "output_type": "stream",
     "text": [
      "Columns with missing values:\n",
      " ALTERSKATEGORIE_GROB     2802\n",
      "RETOURTYP_BK_S           4677\n",
      "W_KEIT_KIND_HH          59229\n",
      "ANZ_HAUSHALTE_AKTIV      6418\n",
      "ANZ_HH_TITEL             3815\n",
      "KONSUMNAEHE                70\n",
      "KBA05_ANTG1             40024\n",
      "KBA05_ANTG2             40024\n",
      "KBA05_ANTG3             40024\n",
      "KBA05_ANTG4             40024\n",
      "KBA05_GBZ               40024\n",
      "BALLRAUM                  592\n",
      "EWDICHTE                  592\n",
      "INNENSTADT                592\n",
      "GEBAEUDETYP_RASTER          7\n",
      "KKK                     64779\n",
      "MOBI_REGIO              40024\n",
      "ONLINE_AFFINITAET        4677\n",
      "REGIOTYP                64779\n",
      "KBA13_ANZAHL_PKW        12546\n",
      "PLZ8_ANTG1              23215\n",
      "PLZ8_ANTG2              23215\n",
      "PLZ8_ANTG3              23215\n",
      "PLZ8_ANTG4              23215\n",
      "PLZ8_HHZ                23215\n",
      "PLZ8_GBZ                23215\n",
      "ARBEIT                   4225\n",
      "ORTSGR_KLS9              4124\n",
      "RELAT_AB                 4225\n",
      "DECADE                  28716\n",
      "MOVEMENT                28716\n",
      "CAMEO_WEALTH             6119\n",
      "CAMEO_LIFESTAGE          6119\n",
      "dtype: int64\n",
      "Total missing values in dataset: 687253\n"
     ]
    }
   ],
   "source": [
    "# Check for missing values per column\n",
    "missing_counts = gen_pop_data_final.isnull().sum()\n",
    "missing_columns = missing_counts[missing_counts > 0]\n",
    "\n",
    "# Print columns with missing values\n",
    "if not missing_columns.empty:\n",
    "    print(\"Columns with missing values:\\n\", missing_columns)\n",
    "    print(f\"Total missing values in dataset: {missing_counts.sum()}\")\n",
    "else:\n",
    "    print(\"✅ No missing values detected. Ready for feature scaling!\")\n"
   ]
  },
  {
   "cell_type": "code",
   "execution_count": 55,
   "metadata": {},
   "outputs": [
    {
     "name": "stdout",
     "output_type": "stream",
     "text": [
      "✅ Total missing values after imputation: 0\n"
     ]
    }
   ],
   "source": [
    "# If you've not yet cleaned the dataset of all NaN values, then investigate and\n",
    "# do that now.\n",
    "\n",
    "from sklearn.impute import SimpleImputer\n",
    "\n",
    "# Initialize the imputer\n",
    "imputer = SimpleImputer(strategy=\"median\")\n",
    "\n",
    "# Apply imputation to the dataset\n",
    "gen_pop_data_imputed = pd.DataFrame(imputer.fit_transform(gen_pop_data_final), columns=gen_pop_data_final.columns)\n",
    "\n",
    "# Verify that all missing values are removed\n",
    "print(f\"✅ Total missing values after imputation: {gen_pop_data_imputed.isnull().sum().sum()}\")\n",
    "\n"
   ]
  },
  {
   "cell_type": "code",
   "execution_count": 56,
   "metadata": {},
   "outputs": [
    {
     "name": "stdout",
     "output_type": "stream",
     "text": [
      "First 5 rows of scaled data:\n"
     ]
    },
    {
     "data": {
      "text/html": [
       "<div>\n",
       "<style scoped>\n",
       "    .dataframe tbody tr th:only-of-type {\n",
       "        vertical-align: middle;\n",
       "    }\n",
       "\n",
       "    .dataframe tbody tr th {\n",
       "        vertical-align: top;\n",
       "    }\n",
       "\n",
       "    .dataframe thead th {\n",
       "        text-align: right;\n",
       "    }\n",
       "</style>\n",
       "<table border=\"1\" class=\"dataframe\">\n",
       "  <thead>\n",
       "    <tr style=\"text-align: right;\">\n",
       "      <th></th>\n",
       "      <th>ALTERSKATEGORIE_GROB</th>\n",
       "      <th>FINANZ_MINIMALIST</th>\n",
       "      <th>FINANZ_SPARER</th>\n",
       "      <th>FINANZ_VORSORGER</th>\n",
       "      <th>FINANZ_ANLEGER</th>\n",
       "      <th>FINANZ_UNAUFFAELLIGER</th>\n",
       "      <th>FINANZ_HAUSBAUER</th>\n",
       "      <th>HEALTH_TYP</th>\n",
       "      <th>RETOURTYP_BK_S</th>\n",
       "      <th>SEMIO_SOZ</th>\n",
       "      <th>...</th>\n",
       "      <th>ORTSGR_KLS9</th>\n",
       "      <th>RELAT_AB</th>\n",
       "      <th>ANREDE_KZ</th>\n",
       "      <th>GREEN_AVANTGARDE</th>\n",
       "      <th>SOHO_KZ</th>\n",
       "      <th>OST_WEST_KZ</th>\n",
       "      <th>DECADE</th>\n",
       "      <th>MOVEMENT</th>\n",
       "      <th>CAMEO_WEALTH</th>\n",
       "      <th>CAMEO_LIFESTAGE</th>\n",
       "    </tr>\n",
       "  </thead>\n",
       "  <tbody>\n",
       "    <tr>\n",
       "      <th>0</th>\n",
       "      <td>-1.766637</td>\n",
       "      <td>-1.494543</td>\n",
       "      <td>1.537910</td>\n",
       "      <td>-1.040665</td>\n",
       "      <td>1.465975</td>\n",
       "      <td>0.958786</td>\n",
       "      <td>1.339199</td>\n",
       "      <td>0.951359</td>\n",
       "      <td>-1.686225</td>\n",
       "      <td>0.443109</td>\n",
       "      <td>...</td>\n",
       "      <td>-0.127093</td>\n",
       "      <td>0.684840</td>\n",
       "      <td>0.95791</td>\n",
       "      <td>-0.530430</td>\n",
       "      <td>10.853169</td>\n",
       "      <td>-0.517435</td>\n",
       "      <td>1.055990</td>\n",
       "      <td>-0.140032</td>\n",
       "      <td>1.186169</td>\n",
       "      <td>-1.266956</td>\n",
       "    </tr>\n",
       "    <tr>\n",
       "      <th>1</th>\n",
       "      <td>0.200528</td>\n",
       "      <td>-1.494543</td>\n",
       "      <td>0.864554</td>\n",
       "      <td>-1.766938</td>\n",
       "      <td>-0.570998</td>\n",
       "      <td>0.244248</td>\n",
       "      <td>1.339199</td>\n",
       "      <td>0.951359</td>\n",
       "      <td>-0.307662</td>\n",
       "      <td>-0.072104</td>\n",
       "      <td>...</td>\n",
       "      <td>-0.127093</td>\n",
       "      <td>-0.789063</td>\n",
       "      <td>0.95791</td>\n",
       "      <td>1.885262</td>\n",
       "      <td>-0.092139</td>\n",
       "      <td>-0.517435</td>\n",
       "      <td>1.055990</td>\n",
       "      <td>0.246742</td>\n",
       "      <td>-0.868225</td>\n",
       "      <td>0.761261</td>\n",
       "    </tr>\n",
       "    <tr>\n",
       "      <th>2</th>\n",
       "      <td>1.184110</td>\n",
       "      <td>0.683223</td>\n",
       "      <td>-0.482157</td>\n",
       "      <td>1.138153</td>\n",
       "      <td>-0.570998</td>\n",
       "      <td>-1.184828</td>\n",
       "      <td>-0.791435</td>\n",
       "      <td>-0.052105</td>\n",
       "      <td>-0.996943</td>\n",
       "      <td>0.443109</td>\n",
       "      <td>...</td>\n",
       "      <td>-0.997615</td>\n",
       "      <td>-0.052112</td>\n",
       "      <td>0.95791</td>\n",
       "      <td>-0.530430</td>\n",
       "      <td>-0.092139</td>\n",
       "      <td>-0.517435</td>\n",
       "      <td>-0.946978</td>\n",
       "      <td>1.407065</td>\n",
       "      <td>-1.553023</td>\n",
       "      <td>-0.590884</td>\n",
       "    </tr>\n",
       "    <tr>\n",
       "      <th>3</th>\n",
       "      <td>0.200528</td>\n",
       "      <td>0.683223</td>\n",
       "      <td>0.191199</td>\n",
       "      <td>0.411880</td>\n",
       "      <td>-1.249989</td>\n",
       "      <td>0.244248</td>\n",
       "      <td>-0.791435</td>\n",
       "      <td>0.951359</td>\n",
       "      <td>1.070902</td>\n",
       "      <td>0.958322</td>\n",
       "      <td>...</td>\n",
       "      <td>0.308168</td>\n",
       "      <td>1.421791</td>\n",
       "      <td>-1.04394</td>\n",
       "      <td>-0.530430</td>\n",
       "      <td>-0.092139</td>\n",
       "      <td>-0.517435</td>\n",
       "      <td>-0.946978</td>\n",
       "      <td>1.407065</td>\n",
       "      <td>0.501371</td>\n",
       "      <td>0.085188</td>\n",
       "    </tr>\n",
       "    <tr>\n",
       "      <th>4</th>\n",
       "      <td>-1.766637</td>\n",
       "      <td>-0.042699</td>\n",
       "      <td>-1.155512</td>\n",
       "      <td>1.138153</td>\n",
       "      <td>-0.570998</td>\n",
       "      <td>-0.470290</td>\n",
       "      <td>1.339199</td>\n",
       "      <td>0.951359</td>\n",
       "      <td>-0.307662</td>\n",
       "      <td>-1.102530</td>\n",
       "      <td>...</td>\n",
       "      <td>-0.997615</td>\n",
       "      <td>-0.052112</td>\n",
       "      <td>0.95791</td>\n",
       "      <td>-0.530430</td>\n",
       "      <td>-0.092139</td>\n",
       "      <td>-0.517435</td>\n",
       "      <td>-0.946978</td>\n",
       "      <td>-0.526806</td>\n",
       "      <td>1.186169</td>\n",
       "      <td>0.761261</td>\n",
       "    </tr>\n",
       "  </tbody>\n",
       "</table>\n",
       "<p>5 rows × 63 columns</p>\n",
       "</div>"
      ],
      "text/plain": [
       "   ALTERSKATEGORIE_GROB  FINANZ_MINIMALIST  FINANZ_SPARER  FINANZ_VORSORGER  \\\n",
       "0             -1.766637          -1.494543       1.537910         -1.040665   \n",
       "1              0.200528          -1.494543       0.864554         -1.766938   \n",
       "2              1.184110           0.683223      -0.482157          1.138153   \n",
       "3              0.200528           0.683223       0.191199          0.411880   \n",
       "4             -1.766637          -0.042699      -1.155512          1.138153   \n",
       "\n",
       "   FINANZ_ANLEGER  FINANZ_UNAUFFAELLIGER  FINANZ_HAUSBAUER  HEALTH_TYP  \\\n",
       "0        1.465975               0.958786          1.339199    0.951359   \n",
       "1       -0.570998               0.244248          1.339199    0.951359   \n",
       "2       -0.570998              -1.184828         -0.791435   -0.052105   \n",
       "3       -1.249989               0.244248         -0.791435    0.951359   \n",
       "4       -0.570998              -0.470290          1.339199    0.951359   \n",
       "\n",
       "   RETOURTYP_BK_S  SEMIO_SOZ       ...         ORTSGR_KLS9  RELAT_AB  \\\n",
       "0       -1.686225   0.443109       ...           -0.127093  0.684840   \n",
       "1       -0.307662  -0.072104       ...           -0.127093 -0.789063   \n",
       "2       -0.996943   0.443109       ...           -0.997615 -0.052112   \n",
       "3        1.070902   0.958322       ...            0.308168  1.421791   \n",
       "4       -0.307662  -1.102530       ...           -0.997615 -0.052112   \n",
       "\n",
       "   ANREDE_KZ  GREEN_AVANTGARDE    SOHO_KZ  OST_WEST_KZ    DECADE  MOVEMENT  \\\n",
       "0    0.95791         -0.530430  10.853169    -0.517435  1.055990 -0.140032   \n",
       "1    0.95791          1.885262  -0.092139    -0.517435  1.055990  0.246742   \n",
       "2    0.95791         -0.530430  -0.092139    -0.517435 -0.946978  1.407065   \n",
       "3   -1.04394         -0.530430  -0.092139    -0.517435 -0.946978  1.407065   \n",
       "4    0.95791         -0.530430  -0.092139    -0.517435 -0.946978 -0.526806   \n",
       "\n",
       "   CAMEO_WEALTH  CAMEO_LIFESTAGE  \n",
       "0      1.186169        -1.266956  \n",
       "1     -0.868225         0.761261  \n",
       "2     -1.553023        -0.590884  \n",
       "3      0.501371         0.085188  \n",
       "4      1.186169         0.761261  \n",
       "\n",
       "[5 rows x 63 columns]"
      ]
     },
     "metadata": {},
     "output_type": "display_data"
    }
   ],
   "source": [
    "from sklearn.preprocessing import StandardScaler\n",
    "\n",
    "# Initialize StandardScaler\n",
    "scaler = StandardScaler()\n",
    "\n",
    "# Apply StandardScaler and create a scaled DataFrame\n",
    "gen_pop_data_scaled = pd.DataFrame(scaler.fit_transform(gen_pop_data_imputed), columns=gen_pop_data_imputed.columns)\n",
    "\n",
    "# Display first few rows of scaled data\n",
    "print(\"First 5 rows of scaled data:\")\n",
    "display(gen_pop_data_scaled.head())\n"
   ]
  },
  {
   "cell_type": "code",
   "execution_count": null,
   "metadata": {},
   "outputs": [],
   "source": [
    "<span style=\"color:blue\">Apply Imputation (Fix Missing Values FIRST)</span>"
   ]
  },
  {
   "cell_type": "code",
   "execution_count": 57,
   "metadata": {},
   "outputs": [
    {
     "name": "stdout",
     "output_type": "stream",
     "text": [
      "✅ imputer saved for future use.\n"
     ]
    }
   ],
   "source": [
    "# Apply feature imputer to the general population demographics data.\n",
    "import pickle\n",
    "\n",
    "# Save the imputer\n",
    "with open(\"imputer.pkl\", \"wb\") as f:\n",
    "    pickle.dump(imputer, f)\n",
    "\n",
    "print(\"✅ imputer saved for future use.\")\n",
    "\n"
   ]
  },
  {
   "cell_type": "code",
   "execution_count": 58,
   "metadata": {},
   "outputs": [
    {
     "name": "stdout",
     "output_type": "stream",
     "text": [
      "✅ Scaler saved for future use.\n"
     ]
    }
   ],
   "source": [
    "# Apply feature scaling to the general population demographics data.\n",
    "import pickle\n",
    "\n",
    "# Save the scaler\n",
    "with open(\"scaler.pkl\", \"wb\") as f:\n",
    "    pickle.dump(scaler, f)\n",
    "\n",
    "print(\"✅ Scaler saved for future use.\")\n",
    "\n"
   ]
  },
  {
   "cell_type": "markdown",
   "metadata": {},
   "source": [
    "### Discussion 2.1: Apply Feature Scaling\n",
    "\n",
    "Feature scaling ensures that all variables are on the same scale."
   ]
  },
  {
   "cell_type": "markdown",
   "metadata": {},
   "source": [
    "### Step 2.2: Perform Dimensionality Reduction\n",
    "\n",
    "On your scaled data, you are now ready to apply dimensionality reduction techniques.\n",
    "\n",
    "- Use sklearn's [PCA](http://scikit-learn.org/stable/modules/generated/sklearn.decomposition.PCA.html) class to apply principal component analysis on the data, thus finding the vectors of maximal variance in the data. To start, you should not set any parameters (so all components are computed) or set a number of components that is at least half the number of features (so there's enough features to see the general trend in variability).\n",
    "- Check out the ratio of variance explained by each principal component as well as the cumulative variance explained. Try plotting the cumulative or sequential values using matplotlib's [`plot()`](https://matplotlib.org/api/_as_gen/matplotlib.pyplot.plot.html) function. Based on what you find, select a value for the number of transformed features you'll retain for the clustering part of the project.\n",
    "- Once you've made a choice for the number of components to keep, make sure you re-fit a PCA instance to perform the decided-on transformation."
   ]
  },
  {
   "cell_type": "code",
   "execution_count": 59,
   "metadata": {},
   "outputs": [
    {
     "data": {
      "text/plain": [
       "PCA()"
      ]
     },
     "execution_count": 59,
     "metadata": {},
     "output_type": "execute_result"
    }
   ],
   "source": [
    "# Apply PCA to the data.\n",
    "\n",
    "from sklearn.decomposition import PCA\n",
    "import numpy as np\n",
    "import matplotlib.pyplot as plt\n",
    "\n",
    "# Initialize PCA without specifying the number of components\n",
    "pca = PCA()\n",
    "\n",
    "# Fit PCA to the scaled data\n",
    "pca.fit(gen_pop_data_scaled)\n"
   ]
  },
  {
   "cell_type": "code",
   "execution_count": 61,
   "metadata": {},
   "outputs": [
    {
     "data": {
      "image/png": "[encoded data removed]",
      "text/plain": [
       "<matplotlib.figure.Figure at 0x791f75bd1438>"
      ]
     },
     "metadata": {
      "needs_background": "light"
     },
     "output_type": "display_data"
    }
   ],
   "source": [
    "# Investigate the variance accounted for by each principal component.\n",
    "\n",
    "# Get the explained variance ratio of each component\n",
    "explained_variance = pca.explained_variance_ratio_\n",
    "\n",
    "# Compute cumulative variance explained\n",
    "cumulative_variance = np.cumsum(explained_variance)\n",
    "\n",
    "# Plot cumulative variance\n",
    "plt.figure(figsize=(10, 5))\n",
    "plt.plot(range(1, len(cumulative_variance) + 1), cumulative_variance, marker='o', linestyle='--')\n",
    "plt.xlabel(\"Number of Principal Components\")\n",
    "plt.ylabel(\"Cumulative Explained Variance\")\n",
    "plt.title(\"Explained Variance by Principal Components\")\n",
    "plt.grid()\n",
    "plt.show()"
   ]
  },
  {
   "cell_type": "code",
   "execution_count": 62,
   "metadata": {},
   "outputs": [
    {
     "name": "stdout",
     "output_type": "stream",
     "text": [
      "Number of components to retain 90% variance: 33\n"
     ]
    }
   ],
   "source": [
    "# Find the number of components required to retain 90% variance\n",
    "num_components_90 = np.argmax(cumulative_variance >= 0.90) + 1\n",
    "print(f\"Number of components to retain 90% variance: {num_components_90}\")\n"
   ]
  },
  {
   "cell_type": "code",
   "execution_count": 63,
   "metadata": {},
   "outputs": [
    {
     "name": "stdout",
     "output_type": "stream",
     "text": [
      "Dataset shape after PCA transformation: (797921, 33)\n"
     ]
    },
    {
     "data": {
      "text/html": [
       "<div>\n",
       "<style scoped>\n",
       "    .dataframe tbody tr th:only-of-type {\n",
       "        vertical-align: middle;\n",
       "    }\n",
       "\n",
       "    .dataframe tbody tr th {\n",
       "        vertical-align: top;\n",
       "    }\n",
       "\n",
       "    .dataframe thead th {\n",
       "        text-align: right;\n",
       "    }\n",
       "</style>\n",
       "<table border=\"1\" class=\"dataframe\">\n",
       "  <thead>\n",
       "    <tr style=\"text-align: right;\">\n",
       "      <th></th>\n",
       "      <th>0</th>\n",
       "      <th>1</th>\n",
       "      <th>2</th>\n",
       "      <th>3</th>\n",
       "      <th>4</th>\n",
       "      <th>5</th>\n",
       "      <th>6</th>\n",
       "      <th>7</th>\n",
       "      <th>8</th>\n",
       "      <th>9</th>\n",
       "      <th>...</th>\n",
       "      <th>23</th>\n",
       "      <th>24</th>\n",
       "      <th>25</th>\n",
       "      <th>26</th>\n",
       "      <th>27</th>\n",
       "      <th>28</th>\n",
       "      <th>29</th>\n",
       "      <th>30</th>\n",
       "      <th>31</th>\n",
       "      <th>32</th>\n",
       "    </tr>\n",
       "  </thead>\n",
       "  <tbody>\n",
       "    <tr>\n",
       "      <th>0</th>\n",
       "      <td>3.778283</td>\n",
       "      <td>-2.554573</td>\n",
       "      <td>-2.888123</td>\n",
       "      <td>-0.476377</td>\n",
       "      <td>-2.536791</td>\n",
       "      <td>2.331735</td>\n",
       "      <td>0.448790</td>\n",
       "      <td>-1.179680</td>\n",
       "      <td>-0.748078</td>\n",
       "      <td>1.323927</td>\n",
       "      <td>...</td>\n",
       "      <td>0.810407</td>\n",
       "      <td>0.123897</td>\n",
       "      <td>0.261256</td>\n",
       "      <td>-0.310388</td>\n",
       "      <td>0.750261</td>\n",
       "      <td>-0.163407</td>\n",
       "      <td>0.638328</td>\n",
       "      <td>-0.161553</td>\n",
       "      <td>-1.118960</td>\n",
       "      <td>0.030100</td>\n",
       "    </tr>\n",
       "    <tr>\n",
       "      <th>1</th>\n",
       "      <td>-0.771772</td>\n",
       "      <td>0.420269</td>\n",
       "      <td>-3.101622</td>\n",
       "      <td>1.584718</td>\n",
       "      <td>-0.784656</td>\n",
       "      <td>-0.191234</td>\n",
       "      <td>-1.124093</td>\n",
       "      <td>-0.783971</td>\n",
       "      <td>0.094772</td>\n",
       "      <td>0.082248</td>\n",
       "      <td>...</td>\n",
       "      <td>-0.494949</td>\n",
       "      <td>-1.015176</td>\n",
       "      <td>-0.344292</td>\n",
       "      <td>-0.111280</td>\n",
       "      <td>-1.083267</td>\n",
       "      <td>1.314211</td>\n",
       "      <td>0.253917</td>\n",
       "      <td>-0.371537</td>\n",
       "      <td>0.176493</td>\n",
       "      <td>-0.177794</td>\n",
       "    </tr>\n",
       "    <tr>\n",
       "      <th>2</th>\n",
       "      <td>-4.050368</td>\n",
       "      <td>1.593926</td>\n",
       "      <td>-0.543021</td>\n",
       "      <td>-0.464461</td>\n",
       "      <td>0.391106</td>\n",
       "      <td>0.015946</td>\n",
       "      <td>0.167876</td>\n",
       "      <td>0.457889</td>\n",
       "      <td>-0.919021</td>\n",
       "      <td>-1.180604</td>\n",
       "      <td>...</td>\n",
       "      <td>0.793386</td>\n",
       "      <td>1.191548</td>\n",
       "      <td>-0.894791</td>\n",
       "      <td>-0.779996</td>\n",
       "      <td>-0.800424</td>\n",
       "      <td>0.033906</td>\n",
       "      <td>0.233597</td>\n",
       "      <td>-0.608538</td>\n",
       "      <td>-0.898132</td>\n",
       "      <td>-0.590112</td>\n",
       "    </tr>\n",
       "    <tr>\n",
       "      <th>3</th>\n",
       "      <td>0.340381</td>\n",
       "      <td>0.479599</td>\n",
       "      <td>3.438472</td>\n",
       "      <td>0.951736</td>\n",
       "      <td>1.822684</td>\n",
       "      <td>-2.684372</td>\n",
       "      <td>1.593489</td>\n",
       "      <td>-1.087522</td>\n",
       "      <td>0.356091</td>\n",
       "      <td>0.747636</td>\n",
       "      <td>...</td>\n",
       "      <td>0.334913</td>\n",
       "      <td>0.214682</td>\n",
       "      <td>0.520941</td>\n",
       "      <td>-0.762586</td>\n",
       "      <td>0.355930</td>\n",
       "      <td>-0.209545</td>\n",
       "      <td>-0.918936</td>\n",
       "      <td>-0.106301</td>\n",
       "      <td>0.294126</td>\n",
       "      <td>-0.025363</td>\n",
       "    </tr>\n",
       "    <tr>\n",
       "      <th>4</th>\n",
       "      <td>-0.788926</td>\n",
       "      <td>-1.606659</td>\n",
       "      <td>-1.104949</td>\n",
       "      <td>-1.579044</td>\n",
       "      <td>-3.212444</td>\n",
       "      <td>-1.065743</td>\n",
       "      <td>-0.625885</td>\n",
       "      <td>2.602229</td>\n",
       "      <td>-2.476549</td>\n",
       "      <td>1.136095</td>\n",
       "      <td>...</td>\n",
       "      <td>1.619285</td>\n",
       "      <td>0.332167</td>\n",
       "      <td>-0.255850</td>\n",
       "      <td>0.870111</td>\n",
       "      <td>-0.538884</td>\n",
       "      <td>0.531011</td>\n",
       "      <td>-0.937083</td>\n",
       "      <td>0.485046</td>\n",
       "      <td>-0.534096</td>\n",
       "      <td>-0.485572</td>\n",
       "    </tr>\n",
       "  </tbody>\n",
       "</table>\n",
       "<p>5 rows × 33 columns</p>\n",
       "</div>"
      ],
      "text/plain": [
       "         0         1         2         3         4         5         6   \\\n",
       "0  3.778283 -2.554573 -2.888123 -0.476377 -2.536791  2.331735  0.448790   \n",
       "1 -0.771772  0.420269 -3.101622  1.584718 -0.784656 -0.191234 -1.124093   \n",
       "2 -4.050368  1.593926 -0.543021 -0.464461  0.391106  0.015946  0.167876   \n",
       "3  0.340381  0.479599  3.438472  0.951736  1.822684 -2.684372  1.593489   \n",
       "4 -0.788926 -1.606659 -1.104949 -1.579044 -3.212444 -1.065743 -0.625885   \n",
       "\n",
       "         7         8         9     ...           23        24        25  \\\n",
       "0 -1.179680 -0.748078  1.323927    ...     0.810407  0.123897  0.261256   \n",
       "1 -0.783971  0.094772  0.082248    ...    -0.494949 -1.015176 -0.344292   \n",
       "2  0.457889 -0.919021 -1.180604    ...     0.793386  1.191548 -0.894791   \n",
       "3 -1.087522  0.356091  0.747636    ...     0.334913  0.214682  0.520941   \n",
       "4  2.602229 -2.476549  1.136095    ...     1.619285  0.332167 -0.255850   \n",
       "\n",
       "         26        27        28        29        30        31        32  \n",
       "0 -0.310388  0.750261 -0.163407  0.638328 -0.161553 -1.118960  0.030100  \n",
       "1 -0.111280 -1.083267  1.314211  0.253917 -0.371537  0.176493 -0.177794  \n",
       "2 -0.779996 -0.800424  0.033906  0.233597 -0.608538 -0.898132 -0.590112  \n",
       "3 -0.762586  0.355930 -0.209545 -0.918936 -0.106301  0.294126 -0.025363  \n",
       "4  0.870111 -0.538884  0.531011 -0.937083  0.485046 -0.534096 -0.485572  \n",
       "\n",
       "[5 rows x 33 columns]"
      ]
     },
     "metadata": {},
     "output_type": "display_data"
    }
   ],
   "source": [
    "# Re-apply PCA to the data while selecting for number of components to retain.\n",
    "\n",
    "# Apply PCA with the chosen number of components\n",
    "pca_final = PCA(n_components=num_components_90)\n",
    "\n",
    "# Transform the dataset\n",
    "gen_pop_data_pca = pca_final.fit_transform(gen_pop_data_scaled)\n",
    "\n",
    "# Convert back to a DataFrame\n",
    "gen_pop_data_pca = pd.DataFrame(gen_pop_data_pca)\n",
    "\n",
    "# Display first few rows\n",
    "print(f\"Dataset shape after PCA transformation: {gen_pop_data_pca.shape}\")\n",
    "display(gen_pop_data_pca.head())\n"
   ]
  },
  {
   "cell_type": "code",
   "execution_count": 64,
   "metadata": {},
   "outputs": [
    {
     "name": "stdout",
     "output_type": "stream",
     "text": [
      "✅ PCA model saved for future use.\n"
     ]
    }
   ],
   "source": [
    "import pickle\n",
    "\n",
    "# Save the PCA model\n",
    "with open(\"pca_model.pkl\", \"wb\") as f:\n",
    "    pickle.dump(pca_final, f)\n",
    "\n",
    "print(\"✅ PCA model saved for future use.\")\n"
   ]
  },
  {
   "cell_type": "markdown",
   "metadata": {},
   "source": [
    "### Discussion 2.2: Perform Dimensionality Reduction\n",
    "\n",
    "PCA was applied to reduce dimensionality while preserving as much variance as possible."
   ]
  },
  {
   "cell_type": "markdown",
   "metadata": {},
   "source": [
    "### Step 2.3: Interpret Principal Components\n",
    "\n",
    "Now that we have our transformed principal components, it's a nice idea to check out the weight of each variable on the first few components to see if they can be interpreted in some fashion.\n",
    "\n",
    "As a reminder, each principal component is a unit vector that points in the direction of highest variance (after accounting for the variance captured by earlier principal components). The further a weight is from zero, the more the principal component is in the direction of the corresponding feature. If two features have large weights of the same sign (both positive or both negative), then increases in one tend expect to be associated with increases in the other. To contrast, features with different signs can be expected to show a negative correlation: increases in one variable should result in a decrease in the other.\n",
    "\n",
    "- To investigate the features, you should map each weight to their corresponding feature name, then sort the features according to weight. The most interesting features for each principal component, then, will be those at the beginning and end of the sorted list. Use the data dictionary document to help you understand these most prominent features, their relationships, and what a positive or negative value on the principal component might indicate.\n",
    "- You should investigate and interpret feature associations from the first three principal components in this substep. To help facilitate this, you should write a function that you can call at any time to print the sorted list of feature weights, for the *i*-th principal component. This might come in handy in the next step of the project, when you interpret the tendencies of the discovered clusters."
   ]
  },
  {
   "cell_type": "code",
   "execution_count": 65,
   "metadata": {},
   "outputs": [],
   "source": [
    "# Map weights for the first principal component to corresponding feature names\n",
    "# and then print the linked values, sorted by weight.\n",
    "# HINT: Try defining a function here or in a new cell that you can reuse in the\n",
    "# other cells.\n",
    "\n",
    "import pandas as pd\n",
    "import numpy as np\n",
    "\n",
    "def interpret_pca_component(pca_model, component_idx, feature_names, top_n=10):\n",
    "    \"\"\"\n",
    "    Prints the top and bottom feature weights for a given principal component.\n",
    "\n",
    "    INPUT:\n",
    "    - pca_model: Fitted PCA model\n",
    "    - component_idx: Index of the principal component (0 for PC1, 1 for PC2, etc.)\n",
    "    - feature_names: List of original feature names\n",
    "    - top_n: Number of top & bottom features to display\n",
    "\n",
    "    OUTPUT:\n",
    "    - Prints top and bottom feature weights sorted by absolute value.\n",
    "    \"\"\"\n",
    "\n",
    "    # Extract the component's feature weights (loadings)\n",
    "    component_weights = pca_model.components_[component_idx]\n",
    "\n",
    "    # Create a DataFrame to map feature names to their weights\n",
    "    feature_importance = pd.DataFrame({\n",
    "        \"Feature\": feature_names,\n",
    "        \"Weight\": component_weights\n",
    "    })\n",
    "\n",
    "    # Sort by absolute value (importance) in descending order\n",
    "    feature_importance[\"Abs_Weight\"] = feature_importance[\"Weight\"].abs()\n",
    "    feature_importance = feature_importance.sort_values(by=\"Abs_Weight\", ascending=False)\n",
    "\n",
    "    # Print the most positive and most negative features\n",
    "    print(f\"\\n🔹 **Principal Component {component_idx + 1} Interpretation** 🔹\")\n",
    "    print(\"Top Contributing Features (Positive Influence):\")\n",
    "    print(feature_importance.head(top_n)[[\"Feature\", \"Weight\"]])\n",
    "\n",
    "    print(\"\\nTop Contributing Features (Negative Influence):\")\n",
    "    print(feature_importance.tail(top_n)[[\"Feature\", \"Weight\"]])\n",
    "\n",
    "    return feature_importance  #\n"
   ]
  },
  {
   "cell_type": "code",
   "execution_count": 66,
   "metadata": {},
   "outputs": [
    {
     "name": "stdout",
     "output_type": "stream",
     "text": [
      "\n",
      "🔹 **Principal Component 1 Interpretation** 🔹\n",
      "Top Contributing Features (Positive Influence):\n",
      "              Feature    Weight\n",
      "42         MOBI_REGIO -0.244232\n",
      "48         PLZ8_ANTG3  0.230231\n",
      "46         PLZ8_ANTG1 -0.229464\n",
      "32        KBA05_ANTG1 -0.223879\n",
      "49         PLZ8_ANTG4  0.223085\n",
      "1   FINANZ_MINIMALIST -0.218190\n",
      "36          KBA05_GBZ -0.218183\n",
      "61       CAMEO_WEALTH  0.207321\n",
      "53        ORTSGR_KLS9  0.203374\n",
      "38           EWDICHTE  0.201559\n",
      "\n",
      "Top Contributing Features (Negative Influence):\n",
      "           Feature    Weight\n",
      "41             KKK  0.035738\n",
      "29    ANZ_HH_TITEL  0.035504\n",
      "19       SEMIO_DOM  0.023021\n",
      "8   RETOURTYP_BK_S -0.016686\n",
      "33     KBA05_ANTG2  0.010045\n",
      "55       ANREDE_KZ  0.007106\n",
      "7       HEALTH_TYP -0.004022\n",
      "24       ANZ_TITEL -0.003181\n",
      "18      SEMIO_KRIT  0.002352\n",
      "57         SOHO_KZ -0.001971\n"
     ]
    }
   ],
   "source": [
    "# Extract feature names from the original dataset\n",
    "feature_names = gen_pop_data_scaled.columns.tolist()\n",
    "\n",
    "# Analyze the first principal component (PC1)\n",
    "pc1_interpretation = interpret_pca_component(pca_final, component_idx=0, feature_names=feature_names)\n"
   ]
  },
  {
   "cell_type": "code",
   "execution_count": 67,
   "metadata": {},
   "outputs": [
    {
     "name": "stdout",
     "output_type": "stream",
     "text": [
      "\n",
      "🔹 **Principal Component 2 Interpretation** 🔹\n",
      "Top Contributing Features (Positive Influence):\n",
      "                  Feature    Weight\n",
      "0    ALTERSKATEGORIE_GROB  0.260237\n",
      "11              SEMIO_REL -0.255309\n",
      "59                 DECADE -0.243505\n",
      "22            SEMIO_TRADV -0.234112\n",
      "2           FINANZ_SPARER -0.233719\n",
      "15              SEMIO_ERL  0.232619\n",
      "3        FINANZ_VORSORGER  0.232252\n",
      "21          SEMIO_PFLICHT -0.227609\n",
      "5   FINANZ_UNAUFFAELLIGER -0.226030\n",
      "16             SEMIO_KULT -0.221822\n",
      "\n",
      "Top Contributing Features (Negative Influence):\n",
      "             Feature    Weight\n",
      "29      ANZ_HH_TITEL  0.030564\n",
      "58       OST_WEST_KZ  0.024650\n",
      "44          REGIOTYP  0.016110\n",
      "56  GREEN_AVANTGARDE -0.014549\n",
      "50          PLZ8_HHZ  0.011862\n",
      "33       KBA05_ANTG2 -0.007992\n",
      "24         ANZ_TITEL  0.007505\n",
      "57           SOHO_KZ -0.001947\n",
      "62   CAMEO_LIFESTAGE  0.001669\n",
      "41               KKK -0.001276\n"
     ]
    }
   ],
   "source": [
    "# Map weights for the second principal component to corresponding feature names\n",
    "# and then print the linked values, sorted by weight.\n",
    "\n",
    "# Analyze the second principal component (PC2)\n",
    "pc2_interpretation = interpret_pca_component(pca_final, component_idx=1, feature_names=feature_names)\n"
   ]
  },
  {
   "cell_type": "code",
   "execution_count": 68,
   "metadata": {},
   "outputs": [
    {
     "name": "stdout",
     "output_type": "stream",
     "text": [
      "\n",
      "🔹 **Principal Component 3 Interpretation** 🔹\n",
      "Top Contributing Features (Positive Influence):\n",
      "           Feature    Weight\n",
      "55       ANREDE_KZ -0.370056\n",
      "13      SEMIO_VERT  0.345685\n",
      "20      SEMIO_KAEM -0.338090\n",
      "19       SEMIO_DOM -0.314678\n",
      "18      SEMIO_KRIT -0.274556\n",
      "9        SEMIO_SOZ  0.260751\n",
      "10       SEMIO_FAM  0.246967\n",
      "16      SEMIO_KULT  0.232819\n",
      "17       SEMIO_RAT -0.223091\n",
      "4   FINANZ_ANLEGER -0.190084\n",
      "\n",
      "Top Contributing Features (Negative Influence):\n",
      "            Feature    Weight\n",
      "29     ANZ_HH_TITEL  0.012525\n",
      "41              KKK -0.011589\n",
      "33      KBA05_ANTG2 -0.010221\n",
      "34      KBA05_ANTG3  0.009905\n",
      "23     ANZ_PERSONEN -0.009872\n",
      "62  CAMEO_LIFESTAGE -0.009070\n",
      "24        ANZ_TITEL  0.009057\n",
      "44         REGIOTYP -0.002694\n",
      "50         PLZ8_HHZ  0.001768\n",
      "57          SOHO_KZ  0.000121\n"
     ]
    }
   ],
   "source": [
    "# Map weights for the third principal component to corresponding feature names\n",
    "# and then print the linked values, sorted by weight.\n",
    "\n",
    "# Analyze the third principal component (PC3)\n",
    "pc3_interpretation = interpret_pca_component(pca_final, component_idx=2, feature_names=feature_names)"
   ]
  },
  {
   "cell_type": "markdown",
   "metadata": {},
   "source": [
    "### Discussion 2.3: Interpret Principal Components\n",
    "\n",
    "By examining the components (PC1, PC2, PC3), we can identify patterns and relationships between the features. And we can interprete positive and negative values from the components. \n",
    "\n",
    "PC1 - distinguishing between higher-income (urban) and lower-income (rural) populations.\n",
    "PC2 - spending, individuals with high purchasing power and negative values suggest conservative spending habits.\n",
    "PC3 - technology, separating tech-savvy consumers from those who prefer traditional methods."
   ]
  },
  {
   "cell_type": "markdown",
   "metadata": {},
   "source": [
    "## Step 3: Clustering\n",
    "\n",
    "### Step 3.1: Apply Clustering to General Population\n",
    "\n",
    "You've assessed and cleaned the demographics data, then scaled and transformed them. Now, it's time to see how the data clusters in the principal components space. In this substep, you will apply k-means clustering to the dataset and use the average within-cluster distances from each point to their assigned cluster's centroid to decide on a number of clusters to keep.\n",
    "\n",
    "- Use sklearn's [KMeans](http://scikit-learn.org/stable/modules/generated/sklearn.cluster.KMeans.html#sklearn.cluster.KMeans) class to perform k-means clustering on the PCA-transformed data.\n",
    "- Then, compute the average difference from each point to its assigned cluster's center. **Hint**: The KMeans object's `.score()` method might be useful here, but note that in sklearn, scores tend to be defined so that larger is better. Try applying it to a small, toy dataset, or use an internet search to help your understanding.\n",
    "- Perform the above two steps for a number of different cluster counts. You can then see how the average distance decreases with an increasing number of clusters. However, each additional cluster provides a smaller net benefit. Use this fact to select a final number of clusters in which to group the data. **Warning**: because of the large size of the dataset, it can take a long time for the algorithm to resolve. The more clusters to fit, the longer the algorithm will take. You should test for cluster counts through at least 10 clusters to get the full picture, but you shouldn't need to test for a number of clusters above about 30.\n",
    "- Once you've selected a final number of clusters to use, re-fit a KMeans instance to perform the clustering operation. Make sure that you also obtain the cluster assignments for the general demographics data, since you'll be using them in the final Step 3.3."
   ]
  },
  {
   "cell_type": "code",
   "execution_count": 69,
   "metadata": {},
   "outputs": [
    {
     "name": "stdout",
     "output_type": "stream",
     "text": [
      "Memory usage: 28.4%\n"
     ]
    }
   ],
   "source": [
    "import psutil\n",
    "\n",
    "# Check memory usage before proceeding\n",
    "print(f\"Memory usage: {psutil.virtual_memory().percent}%\")\n"
   ]
  },
  {
   "cell_type": "code",
   "execution_count": 70,
   "metadata": {},
   "outputs": [
    {
     "name": "stdout",
     "output_type": "stream",
     "text": [
      "✅ Running K-Means on a sample of 50000 rows instead of full dataset.\n",
      "✅ K-Means clustering completed with optimized n_init setting.\n"
     ]
    }
   ],
   "source": [
    "from sklearn.cluster import KMeans  # ✅ Import KMeans for clustering\n",
    "import numpy as np\n",
    "import pandas as pd\n",
    "\n",
    "# # Reduce dataset size for faster K-Means execution\n",
    "subset_size = 50000  # Adjust based on available memory/speed trade-off\n",
    "gen_pop_subset = gen_pop_data_pca.sample(n=subset_size, random_state=42)\n",
    "\n",
    "print(f\"✅ Running K-Means on a sample of {subset_size} rows instead of full dataset.\")\n",
    "\n",
    "# Define range of clusters to test\n",
    "cluster_range = range(2, 30)\n",
    "inertia_values = []  # Stores WCSS\n",
    "\n",
    "# # # Run K-Means for different cluster counts\n",
    "# for k in cluster_range:\n",
    "#     kmeans = KMeans(n_clusters=k, random_state=42, n_init=10)\n",
    "#     kmeans.fit(gen_pop_subset)  # Using subset instead of full dataset\n",
    "#     inertia_values.append(kmeans.inertia_)\n",
    "\n",
    "# print(\"✅ K-Means clustering completed on reduced dataset.\")\n",
    "\n",
    "# Run K-Means with optimized n_init\n",
    "for k in cluster_range:\n",
    "    kmeans = KMeans(n_clusters=k, random_state=42, n_init=1, init=\"k-means++\")  # Reduce iterations\n",
    "    kmeans.fit(gen_pop_subset)\n",
    "    inertia_values.append(kmeans.inertia_)\n",
    "\n",
    "print(\"✅ K-Means clustering completed with optimized n_init setting.\")\n"
   ]
  },
  {
   "cell_type": "code",
   "execution_count": 71,
   "metadata": {},
   "outputs": [
    {
     "data": {
      "image/png": "[encoded data removed]",
      "text/plain": [
       "<matplotlib.figure.Figure at 0x791f7046f898>"
      ]
     },
     "metadata": {
      "needs_background": "light"
     },
     "output_type": "display_data"
    },
    {
     "name": "stdout",
     "output_type": "stream",
     "text": [
      "✅ Elbow Method plot generated.\n"
     ]
    }
   ],
   "source": [
    "# # Investigate the change in within-cluster distance across number of clusters.\n",
    "# # HINT: Use matplotlib's plot function to visualize this relationship.\n",
    "\n",
    "import matplotlib.pyplot as plt\n",
    "\n",
    "# Plot the Elbow Curve\n",
    "plt.figure(figsize=(10, 5))\n",
    "plt.plot(cluster_range, inertia_values, marker='o', linestyle='--')\n",
    "plt.xlabel(\"Number of Clusters\")\n",
    "plt.ylabel(\"Within-Cluster Sum of Squares (WCSS)\")\n",
    "plt.title(\"Elbow Method for Optimal Clusters\")\n",
    "plt.grid()\n",
    "plt.show()\n",
    "\n",
    "print(\"✅ Elbow Method plot generated.\")\n",
    "\n",
    "\n"
   ]
  },
  {
   "cell_type": "code",
   "execution_count": 72,
   "metadata": {},
   "outputs": [
    {
     "name": "stdout",
     "output_type": "stream",
     "text": [
      "📌 Optimal number of clusters determined: 8\n"
     ]
    }
   ],
   "source": [
    "from kneed import KneeLocator\n",
    "\n",
    "# Find the optimal number of clusters\n",
    "knee_locator = KneeLocator(cluster_range, inertia_values, curve=\"convex\", direction=\"decreasing\")\n",
    "\n",
    "# Print the best cluster count\n",
    "optimal_clusters = knee_locator.knee\n",
    "print(f\"📌 Optimal number of clusters determined: {optimal_clusters}\")\n",
    "\n"
   ]
  },
  {
   "cell_type": "code",
   "execution_count": 73,
   "metadata": {},
   "outputs": [
    {
     "name": "stdout",
     "output_type": "stream",
     "text": [
      "✅ K-Means clustering applied. Clusters assigned to the dataset.\n"
     ]
    }
   ],
   "source": [
    "# Fit K-Means with the optimal number of clusters\n",
    "kmeans_final = KMeans(n_clusters=optimal_clusters, random_state=42, n_init=10)\n",
    "kmeans_final.fit(gen_pop_data_pca)\n",
    "\n",
    "# Assign clusters to the general population dataset\n",
    "gen_pop_clusters = kmeans_final.predict(gen_pop_data_pca)\n",
    "\n",
    "# Add cluster assignments to the dataset\n",
    "gen_pop_data_pca[\"Cluster\"] = gen_pop_clusters\n",
    "\n",
    "print(f\"✅ K-Means clustering applied. Clusters assigned to the dataset.\")\n"
   ]
  },
  {
   "cell_type": "code",
   "execution_count": 74,
   "metadata": {},
   "outputs": [
    {
     "name": "stdout",
     "output_type": "stream",
     "text": [
      "✅ K-Means model saved for future use.\n"
     ]
    }
   ],
   "source": [
    "import pickle\n",
    "\n",
    "# Save the trained K-Means model\n",
    "with open(\"kmeans_model.pkl\", \"wb\") as f:\n",
    "    pickle.dump(kmeans_final, f)\n",
    "\n",
    "print(\"✅ K-Means model saved for future use.\")\n"
   ]
  },
  {
   "cell_type": "markdown",
   "metadata": {},
   "source": [
    "### Discussion 3.1: Apply Clustering to General Population\n",
    "\n",
    "K-Means clustering was used to identify distinct market segments within the general population. The final number of clusters selected was X using the KneeLocator algorithm - Optimal number of clusters determined: 7"
   ]
  },
  {
   "cell_type": "markdown",
   "metadata": {},
   "source": [
    "### Step 3.2: Apply All Steps to the Customer Data\n",
    "\n",
    "Now that you have clusters and cluster centers for the general population, it's time to see how the customer data maps on to those clusters. Take care to not confuse this for re-fitting all of the models to the customer data. Instead, you're going to use the fits from the general population to clean, transform, and cluster the customer data. In the last step of the project, you will interpret how the general population fits apply to the customer data.\n",
    "\n",
    "- Don't forget when loading in the customers data, that it is semicolon (`;`) delimited.\n",
    "- Apply the same feature wrangling, selection, and engineering steps to the customer demographics using the `clean_data()` function you created earlier. (You can assume that the customer demographics data has similar meaning behind missing data patterns as the general demographics data.)\n",
    "- Use the sklearn objects from the general demographics data, and apply their transformations to the customers data. That is, you should not be using a `.fit()` or `.fit_transform()` method to re-fit the old objects, nor should you be creating new sklearn objects! Carry the data through the feature scaling, PCA, and clustering steps, obtaining cluster assignments for all of the data in the customer demographics data."
   ]
  },
  {
   "cell_type": "code",
   "execution_count": 75,
   "metadata": {},
   "outputs": [
    {
     "name": "stdout",
     "output_type": "stream",
     "text": [
      "✅ Customer dataset loaded successfully.\n"
     ]
    },
    {
     "data": {
      "text/html": [
       "<div>\n",
       "<style scoped>\n",
       "    .dataframe tbody tr th:only-of-type {\n",
       "        vertical-align: middle;\n",
       "    }\n",
       "\n",
       "    .dataframe tbody tr th {\n",
       "        vertical-align: top;\n",
       "    }\n",
       "\n",
       "    .dataframe thead th {\n",
       "        text-align: right;\n",
       "    }\n",
       "</style>\n",
       "<table border=\"1\" class=\"dataframe\">\n",
       "  <thead>\n",
       "    <tr style=\"text-align: right;\">\n",
       "      <th></th>\n",
       "      <th>AGER_TYP</th>\n",
       "      <th>ALTERSKATEGORIE_GROB</th>\n",
       "      <th>ANREDE_KZ</th>\n",
       "      <th>CJT_GESAMTTYP</th>\n",
       "      <th>FINANZ_MINIMALIST</th>\n",
       "      <th>FINANZ_SPARER</th>\n",
       "      <th>FINANZ_VORSORGER</th>\n",
       "      <th>FINANZ_ANLEGER</th>\n",
       "      <th>FINANZ_UNAUFFAELLIGER</th>\n",
       "      <th>FINANZ_HAUSBAUER</th>\n",
       "      <th>...</th>\n",
       "      <th>PLZ8_ANTG1</th>\n",
       "      <th>PLZ8_ANTG2</th>\n",
       "      <th>PLZ8_ANTG3</th>\n",
       "      <th>PLZ8_ANTG4</th>\n",
       "      <th>PLZ8_BAUMAX</th>\n",
       "      <th>PLZ8_HHZ</th>\n",
       "      <th>PLZ8_GBZ</th>\n",
       "      <th>ARBEIT</th>\n",
       "      <th>ORTSGR_KLS9</th>\n",
       "      <th>RELAT_AB</th>\n",
       "    </tr>\n",
       "  </thead>\n",
       "  <tbody>\n",
       "    <tr>\n",
       "      <th>0</th>\n",
       "      <td>2</td>\n",
       "      <td>4</td>\n",
       "      <td>1</td>\n",
       "      <td>5.0</td>\n",
       "      <td>5</td>\n",
       "      <td>1</td>\n",
       "      <td>5</td>\n",
       "      <td>1</td>\n",
       "      <td>2</td>\n",
       "      <td>2</td>\n",
       "      <td>...</td>\n",
       "      <td>3.0</td>\n",
       "      <td>3.0</td>\n",
       "      <td>1.0</td>\n",
       "      <td>0.0</td>\n",
       "      <td>1.0</td>\n",
       "      <td>5.0</td>\n",
       "      <td>5.0</td>\n",
       "      <td>1.0</td>\n",
       "      <td>2.0</td>\n",
       "      <td>1.0</td>\n",
       "    </tr>\n",
       "    <tr>\n",
       "      <th>1</th>\n",
       "      <td>-1</td>\n",
       "      <td>4</td>\n",
       "      <td>1</td>\n",
       "      <td>NaN</td>\n",
       "      <td>5</td>\n",
       "      <td>1</td>\n",
       "      <td>5</td>\n",
       "      <td>1</td>\n",
       "      <td>3</td>\n",
       "      <td>2</td>\n",
       "      <td>...</td>\n",
       "      <td>NaN</td>\n",
       "      <td>NaN</td>\n",
       "      <td>NaN</td>\n",
       "      <td>NaN</td>\n",
       "      <td>NaN</td>\n",
       "      <td>NaN</td>\n",
       "      <td>NaN</td>\n",
       "      <td>NaN</td>\n",
       "      <td>NaN</td>\n",
       "      <td>NaN</td>\n",
       "    </tr>\n",
       "    <tr>\n",
       "      <th>2</th>\n",
       "      <td>-1</td>\n",
       "      <td>4</td>\n",
       "      <td>2</td>\n",
       "      <td>2.0</td>\n",
       "      <td>5</td>\n",
       "      <td>1</td>\n",
       "      <td>5</td>\n",
       "      <td>1</td>\n",
       "      <td>4</td>\n",
       "      <td>4</td>\n",
       "      <td>...</td>\n",
       "      <td>2.0</td>\n",
       "      <td>3.0</td>\n",
       "      <td>3.0</td>\n",
       "      <td>1.0</td>\n",
       "      <td>3.0</td>\n",
       "      <td>3.0</td>\n",
       "      <td>2.0</td>\n",
       "      <td>3.0</td>\n",
       "      <td>5.0</td>\n",
       "      <td>3.0</td>\n",
       "    </tr>\n",
       "    <tr>\n",
       "      <th>3</th>\n",
       "      <td>1</td>\n",
       "      <td>4</td>\n",
       "      <td>1</td>\n",
       "      <td>2.0</td>\n",
       "      <td>5</td>\n",
       "      <td>1</td>\n",
       "      <td>5</td>\n",
       "      <td>2</td>\n",
       "      <td>1</td>\n",
       "      <td>2</td>\n",
       "      <td>...</td>\n",
       "      <td>3.0</td>\n",
       "      <td>2.0</td>\n",
       "      <td>1.0</td>\n",
       "      <td>0.0</td>\n",
       "      <td>1.0</td>\n",
       "      <td>3.0</td>\n",
       "      <td>4.0</td>\n",
       "      <td>1.0</td>\n",
       "      <td>3.0</td>\n",
       "      <td>1.0</td>\n",
       "    </tr>\n",
       "    <tr>\n",
       "      <th>4</th>\n",
       "      <td>-1</td>\n",
       "      <td>3</td>\n",
       "      <td>1</td>\n",
       "      <td>6.0</td>\n",
       "      <td>3</td>\n",
       "      <td>1</td>\n",
       "      <td>4</td>\n",
       "      <td>4</td>\n",
       "      <td>5</td>\n",
       "      <td>2</td>\n",
       "      <td>...</td>\n",
       "      <td>2.0</td>\n",
       "      <td>4.0</td>\n",
       "      <td>2.0</td>\n",
       "      <td>1.0</td>\n",
       "      <td>2.0</td>\n",
       "      <td>3.0</td>\n",
       "      <td>3.0</td>\n",
       "      <td>3.0</td>\n",
       "      <td>5.0</td>\n",
       "      <td>1.0</td>\n",
       "    </tr>\n",
       "  </tbody>\n",
       "</table>\n",
       "<p>5 rows × 85 columns</p>\n",
       "</div>"
      ],
      "text/plain": [
       "   AGER_TYP  ALTERSKATEGORIE_GROB  ANREDE_KZ  CJT_GESAMTTYP  \\\n",
       "0         2                     4          1            5.0   \n",
       "1        -1                     4          1            NaN   \n",
       "2        -1                     4          2            2.0   \n",
       "3         1                     4          1            2.0   \n",
       "4        -1                     3          1            6.0   \n",
       "\n",
       "   FINANZ_MINIMALIST  FINANZ_SPARER  FINANZ_VORSORGER  FINANZ_ANLEGER  \\\n",
       "0                  5              1                 5               1   \n",
       "1                  5              1                 5               1   \n",
       "2                  5              1                 5               1   \n",
       "3                  5              1                 5               2   \n",
       "4                  3              1                 4               4   \n",
       "\n",
       "   FINANZ_UNAUFFAELLIGER  FINANZ_HAUSBAUER    ...     PLZ8_ANTG1  PLZ8_ANTG2  \\\n",
       "0                      2                 2    ...            3.0         3.0   \n",
       "1                      3                 2    ...            NaN         NaN   \n",
       "2                      4                 4    ...            2.0         3.0   \n",
       "3                      1                 2    ...            3.0         2.0   \n",
       "4                      5                 2    ...            2.0         4.0   \n",
       "\n",
       "   PLZ8_ANTG3  PLZ8_ANTG4  PLZ8_BAUMAX  PLZ8_HHZ  PLZ8_GBZ  ARBEIT  \\\n",
       "0         1.0         0.0          1.0       5.0       5.0     1.0   \n",
       "1         NaN         NaN          NaN       NaN       NaN     NaN   \n",
       "2         3.0         1.0          3.0       3.0       2.0     3.0   \n",
       "3         1.0         0.0          1.0       3.0       4.0     1.0   \n",
       "4         2.0         1.0          2.0       3.0       3.0     3.0   \n",
       "\n",
       "   ORTSGR_KLS9  RELAT_AB  \n",
       "0          2.0       1.0  \n",
       "1          NaN       NaN  \n",
       "2          5.0       3.0  \n",
       "3          3.0       1.0  \n",
       "4          5.0       1.0  \n",
       "\n",
       "[5 rows x 85 columns]"
      ]
     },
     "metadata": {},
     "output_type": "display_data"
    }
   ],
   "source": [
    "# Load in the customer demographics data.\n",
    "customers = pd.read_csv(\"Udacity_CUSTOMERS_Subset.csv\", sep=\";\", low_memory=False)\n",
    "\n",
    "# Display the first few rows\n",
    "print(\"✅ Customer dataset loaded successfully.\")\n",
    "display(customers.head())"
   ]
  },
  {
   "cell_type": "code",
   "execution_count": 76,
   "metadata": {},
   "outputs": [
    {
     "name": "stdout",
     "output_type": "stream",
     "text": [
      "Final Cleaned Data Shape: (141701, 63)\n",
      "✅ Customer dataset cleaned. Shape: (141701, 63)\n"
     ]
    }
   ],
   "source": [
    "# Apply preprocessing, feature transformation, and clustering from the general\n",
    "# demographics onto the customer data, obtaining cluster predictions for the\n",
    "# customer demographics data.\n",
    "\n",
    "# Apply the cleaning function to the customer dataset\n",
    "customers_cleaned = clean_data(customers, feature_sum_data)\n",
    "\n",
    "# Verify shape\n",
    "print(f\"✅ Customer dataset cleaned. Shape: {customers_cleaned.shape}\")"
   ]
  },
  {
   "cell_type": "code",
   "execution_count": 78,
   "metadata": {},
   "outputs": [
    {
     "name": "stdout",
     "output_type": "stream",
     "text": [
      "✅ Imputation applied using pre-trained model.\n",
      "✅ Missing values imputed successfully. Total NaNs remaining: 0\n"
     ]
    }
   ],
   "source": [
    "import pickle\n",
    "from sklearn.impute import SimpleImputer\n",
    "\n",
    "# ✅ Step 1: Load the Pre-Trained Imputer\n",
    "with open(\"imputer.pkl\", \"rb\") as f:\n",
    "    imputer = pickle.load(f)\n",
    "\n",
    "# ✅ Step 2: Apply Pre-Trained Imputer (No Fitting Again)\n",
    "customers_imputed = pd.DataFrame(imputer.transform(customers_cleaned), columns=customers_cleaned.columns)\n",
    "\n",
    "print(\"✅ Imputation applied using pre-trained model.\")\n",
    "print(f\"✅ Missing values imputed successfully. Total NaNs remaining: {customers_imputed.isnull().sum().sum()}\")\n"
   ]
  },
  {
   "cell_type": "code",
   "execution_count": 79,
   "metadata": {},
   "outputs": [
    {
     "name": "stdout",
     "output_type": "stream",
     "text": [
      "✅ Scaling applied in correct order.\n",
      "✅ Feature scaling applied to customer data.\n"
     ]
    }
   ],
   "source": [
    "import pickle\n",
    "from sklearn.preprocessing import StandardScaler\n",
    "\n",
    "# ✅ Step 2: Apply Scaling AFTER Imputation\n",
    "\n",
    "# Load the saved scaler\n",
    "with open(\"scaler.pkl\", \"rb\") as f:\n",
    "    scaler = pickle.load(f)\n",
    "\n",
    "# Apply the same scaling transformation\n",
    "# customers_scaled = pd.DataFrame(scaler.transform(customers_cleaned), columns=customers_cleaned.columns)\n",
    "\n",
    "# ✅ Apply Pre-Trained Scaler\n",
    "customers_normalized = pd.DataFrame(scaler.transform(customers_imputed), columns=customers_cleaned.columns)\n",
    "\n",
    "\n",
    "print(\"✅ Scaling applied in correct order.\")\n",
    "print(\"✅ Feature scaling applied to customer data.\")\n"
   ]
  },
  {
   "cell_type": "code",
   "execution_count": 80,
   "metadata": {},
   "outputs": [
    {
     "name": "stdout",
     "output_type": "stream",
     "text": [
      "✅ PCA transformation successfully applied to customer data.\n"
     ]
    }
   ],
   "source": [
    "# Apply PCA transformation\n",
    "# customers_pca = pca_final.transform(customers_imputed)\n",
    "customers_pca = pca_final.transform(customers_normalized)\n",
    "\n",
    "print(\"✅ PCA transformation successfully applied to customer data.\")\n"
   ]
  },
  {
   "cell_type": "code",
   "execution_count": 81,
   "metadata": {},
   "outputs": [
    {
     "name": "stdout",
     "output_type": "stream",
     "text": [
      "🔍 Total missing values in customers_scaled: 0\n"
     ]
    }
   ],
   "source": [
    "# Check if there are any NaN values in the dataset\n",
    "missing_values = customers_normalized.isnull().sum().sum()\n",
    "print(f\"🔍 Total missing values in customers_scaled: {missing_values}\")\n"
   ]
  },
  {
   "cell_type": "markdown",
   "metadata": {},
   "source": [
    "### Step 3.3: Compare Customer Data to Demographics Data\n",
    "\n",
    "At this point, you have clustered data based on demographics of the general population of Germany, and seen how the customer data for a mail-order sales company maps onto those demographic clusters. In this final substep, you will compare the two cluster distributions to see where the strongest customer base for the company is.\n",
    "\n",
    "Consider the proportion of persons in each cluster for the general population, and the proportions for the customers. If we think the company's customer base to be universal, then the cluster assignment proportions should be fairly similar between the two. If there are only particular segments of the population that are interested in the company's products, then we should see a mismatch from one to the other. If there is a higher proportion of persons in a cluster for the customer data compared to the general population (e.g. 5% of persons are assigned to a cluster for the general population, but 15% of the customer data is closest to that cluster's centroid) then that suggests the people in that cluster to be a target audience for the company. On the other hand, the proportion of the data in a cluster being larger in the general population than the customer data (e.g. only 2% of customers closest to a population centroid that captures 6% of the data) suggests that group of persons to be outside of the target demographics.\n",
    "\n",
    "Take a look at the following points in this step:\n",
    "\n",
    "- Compute the proportion of data points in each cluster for the general population and the customer data. Visualizations will be useful here: both for the individual dataset proportions, but also to visualize the ratios in cluster representation between groups. Seaborn's [`countplot()`](https://seaborn.pydata.org/generated/seaborn.countplot.html) or [`barplot()`](https://seaborn.pydata.org/generated/seaborn.barplot.html) function could be handy.\n",
    "  - Recall the analysis you performed in step 1.1.3 of the project, where you separated out certain data points from the dataset if they had more than a specified threshold of missing values. If you found that this group was qualitatively different from the main bulk of the data, you should treat this as an additional data cluster in this analysis. Make sure that you account for the number of data points in this subset, for both the general population and customer datasets, when making your computations!\n",
    "- Which cluster or clusters are overrepresented in the customer dataset compared to the general population? Select at least one such cluster and infer what kind of people might be represented by that cluster. Use the principal component interpretations from step 2.3 or look at additional components to help you make this inference. Alternatively, you can use the `.inverse_transform()` method of the PCA and StandardScaler objects to transform centroids back to the original data space and interpret the retrieved values directly.\n",
    "- Perform a similar investigation for the underrepresented clusters. Which cluster or clusters are underrepresented in the customer dataset compared to the general population, and what kinds of people are typified by these clusters?"
   ]
  },
  {
   "cell_type": "code",
   "execution_count": 82,
   "metadata": {},
   "outputs": [
    {
     "name": "stdout",
     "output_type": "stream",
     "text": [
      "✅ Converted customers_pca to DataFrame. Shape: (141701, 33)\n"
     ]
    }
   ],
   "source": [
    "# Compare the proportion of data in each cluster for the customer data to the\n",
    "# proportion of data in each cluster for the general population.\n",
    "\n",
    "# Convert PCA output to DataFrame\n",
    "customers_pca_df = pd.DataFrame(customers_pca)\n",
    "\n",
    "print(f\"✅ Converted customers_pca to DataFrame. Shape: {customers_pca_df.shape}\")"
   ]
  },
  {
   "cell_type": "code",
   "execution_count": 83,
   "metadata": {},
   "outputs": [
    {
     "name": "stdout",
     "output_type": "stream",
     "text": [
      "✅ Cluster assignments added to customer dataset.\n"
     ]
    }
   ],
   "source": [
    "# Load the saved K-Means model\n",
    "with open(\"kmeans_model.pkl\", \"rb\") as f:\n",
    "    kmeans_final = pickle.load(f)\n",
    "\n",
    "# Predict clusters for customer dataset\n",
    "# customer_clusters = kmeans_final.predict(customers_pca_df)\n",
    "\n",
    "# ✅ Apply Pre-Trained K-Means Model to Assign Clusters\n",
    "customer_clusters = kmeans_final.predict(customers_pca)\n",
    "\n",
    "# Add cluster assignments to DataFrame\n",
    "customers_pca_df[\"Cluster\"] = customer_clusters\n",
    "\n",
    "print(\"✅ Cluster assignments added to customer dataset.\")\n"
   ]
  },
  {
   "cell_type": "code",
   "execution_count": 84,
   "metadata": {},
   "outputs": [
    {
     "name": "stdout",
     "output_type": "stream",
     "text": [
      "✅ Customers successfully assigned to clusters using pre-trained models.\n"
     ]
    }
   ],
   "source": [
    "# ✅ Store Clusters in DataFrame\n",
    "customers_clustered = pd.DataFrame(customers_pca, columns=[f\"PC{i+1}\" for i in range(customers_pca.shape[1])])\n",
    "customers_clustered[\"Cluster\"] = customer_clusters\n",
    "\n",
    "print(\"✅ Customers successfully assigned to clusters using pre-trained models.\")"
   ]
  },
  {
   "cell_type": "code",
   "execution_count": 85,
   "metadata": {},
   "outputs": [
    {
     "name": "stdout",
     "output_type": "stream",
     "text": [
      "✅ Cluster proportions computed and displayed:\n"
     ]
    },
    {
     "data": {
      "text/html": [
       "<div>\n",
       "<style scoped>\n",
       "    .dataframe tbody tr th:only-of-type {\n",
       "        vertical-align: middle;\n",
       "    }\n",
       "\n",
       "    .dataframe tbody tr th {\n",
       "        vertical-align: top;\n",
       "    }\n",
       "\n",
       "    .dataframe thead th {\n",
       "        text-align: right;\n",
       "    }\n",
       "</style>\n",
       "<table border=\"1\" class=\"dataframe\">\n",
       "  <thead>\n",
       "    <tr style=\"text-align: right;\">\n",
       "      <th></th>\n",
       "      <th>General Population (%)</th>\n",
       "      <th>Customers (%)</th>\n",
       "      <th>Difference (Customers - General Pop)</th>\n",
       "    </tr>\n",
       "  </thead>\n",
       "  <tbody>\n",
       "    <tr>\n",
       "      <th>0</th>\n",
       "      <td>9.590799</td>\n",
       "      <td>3.385297</td>\n",
       "      <td>-6.205502</td>\n",
       "    </tr>\n",
       "    <tr>\n",
       "      <th>1</th>\n",
       "      <td>16.372924</td>\n",
       "      <td>49.402615</td>\n",
       "      <td>33.029691</td>\n",
       "    </tr>\n",
       "    <tr>\n",
       "      <th>2</th>\n",
       "      <td>12.949653</td>\n",
       "      <td>13.078948</td>\n",
       "      <td>0.129295</td>\n",
       "    </tr>\n",
       "    <tr>\n",
       "      <th>3</th>\n",
       "      <td>11.839894</td>\n",
       "      <td>2.015512</td>\n",
       "      <td>-9.824382</td>\n",
       "    </tr>\n",
       "    <tr>\n",
       "      <th>4</th>\n",
       "      <td>8.399954</td>\n",
       "      <td>1.009167</td>\n",
       "      <td>-7.390787</td>\n",
       "    </tr>\n",
       "    <tr>\n",
       "      <th>5</th>\n",
       "      <td>16.381196</td>\n",
       "      <td>19.292030</td>\n",
       "      <td>2.910835</td>\n",
       "    </tr>\n",
       "    <tr>\n",
       "      <th>6</th>\n",
       "      <td>13.356585</td>\n",
       "      <td>10.635070</td>\n",
       "      <td>-2.721516</td>\n",
       "    </tr>\n",
       "    <tr>\n",
       "      <th>7</th>\n",
       "      <td>11.108994</td>\n",
       "      <td>1.181361</td>\n",
       "      <td>-9.927634</td>\n",
       "    </tr>\n",
       "  </tbody>\n",
       "</table>\n",
       "</div>"
      ],
      "text/plain": [
       "   General Population (%)  Customers (%)  Difference (Customers - General Pop)\n",
       "0                9.590799       3.385297                             -6.205502\n",
       "1               16.372924      49.402615                             33.029691\n",
       "2               12.949653      13.078948                              0.129295\n",
       "3               11.839894       2.015512                             -9.824382\n",
       "4                8.399954       1.009167                             -7.390787\n",
       "5               16.381196      19.292030                              2.910835\n",
       "6               13.356585      10.635070                             -2.721516\n",
       "7               11.108994       1.181361                             -9.927634"
      ]
     },
     "metadata": {},
     "output_type": "display_data"
    }
   ],
   "source": [
    "# Compute cluster proportions for general population\n",
    "gen_pop_cluster_counts = gen_pop_data_pca[\"Cluster\"].value_counts(normalize=True) * 100\n",
    "\n",
    "# Compute cluster proportions for customer data\n",
    "customer_cluster_counts = customers_pca_df[\"Cluster\"].value_counts(normalize=True) * 100\n",
    "\n",
    "# Combine data into a DataFrame\n",
    "cluster_comparison = pd.DataFrame({\n",
    "    \"General Population (%)\": gen_pop_cluster_counts,\n",
    "    \"Customers (%)\": customer_cluster_counts\n",
    "}).fillna(0)  # Fill missing clusters with 0% if not present in one dataset\n",
    "\n",
    "# Compute the difference in representation\n",
    "cluster_comparison[\"Difference (Customers - General Pop)\"] = (\n",
    "    cluster_comparison[\"Customers (%)\"] - cluster_comparison[\"General Population (%)\"]\n",
    ")\n",
    "\n",
    "# Display the corrected DataFrame\n",
    "print(\"✅ Cluster proportions computed and displayed:\")\n",
    "display(cluster_comparison)\n"
   ]
  },
  {
   "cell_type": "code",
   "execution_count": 86,
   "metadata": {},
   "outputs": [
    {
     "name": "stdout",
     "output_type": "stream",
     "text": [
      "✅ Cluster proportions computed and displayed:\n"
     ]
    },
    {
     "data": {
      "text/html": [
       "<div>\n",
       "<style scoped>\n",
       "    .dataframe tbody tr th:only-of-type {\n",
       "        vertical-align: middle;\n",
       "    }\n",
       "\n",
       "    .dataframe tbody tr th {\n",
       "        vertical-align: top;\n",
       "    }\n",
       "\n",
       "    .dataframe thead th {\n",
       "        text-align: right;\n",
       "    }\n",
       "</style>\n",
       "<table border=\"1\" class=\"dataframe\">\n",
       "  <thead>\n",
       "    <tr style=\"text-align: right;\">\n",
       "      <th></th>\n",
       "      <th>General Population (%)</th>\n",
       "      <th>Customers (%)</th>\n",
       "      <th>Difference (Customers - General Pop)</th>\n",
       "    </tr>\n",
       "  </thead>\n",
       "  <tbody>\n",
       "    <tr>\n",
       "      <th>0</th>\n",
       "      <td>9.590799</td>\n",
       "      <td>3.385297</td>\n",
       "      <td>-6.205502</td>\n",
       "    </tr>\n",
       "    <tr>\n",
       "      <th>1</th>\n",
       "      <td>16.372924</td>\n",
       "      <td>49.402615</td>\n",
       "      <td>33.029691</td>\n",
       "    </tr>\n",
       "    <tr>\n",
       "      <th>2</th>\n",
       "      <td>12.949653</td>\n",
       "      <td>13.078948</td>\n",
       "      <td>0.129295</td>\n",
       "    </tr>\n",
       "    <tr>\n",
       "      <th>3</th>\n",
       "      <td>11.839894</td>\n",
       "      <td>2.015512</td>\n",
       "      <td>-9.824382</td>\n",
       "    </tr>\n",
       "    <tr>\n",
       "      <th>4</th>\n",
       "      <td>8.399954</td>\n",
       "      <td>1.009167</td>\n",
       "      <td>-7.390787</td>\n",
       "    </tr>\n",
       "    <tr>\n",
       "      <th>5</th>\n",
       "      <td>16.381196</td>\n",
       "      <td>19.292030</td>\n",
       "      <td>2.910835</td>\n",
       "    </tr>\n",
       "    <tr>\n",
       "      <th>6</th>\n",
       "      <td>13.356585</td>\n",
       "      <td>10.635070</td>\n",
       "      <td>-2.721516</td>\n",
       "    </tr>\n",
       "    <tr>\n",
       "      <th>7</th>\n",
       "      <td>11.108994</td>\n",
       "      <td>1.181361</td>\n",
       "      <td>-9.927634</td>\n",
       "    </tr>\n",
       "  </tbody>\n",
       "</table>\n",
       "</div>"
      ],
      "text/plain": [
       "   General Population (%)  Customers (%)  Difference (Customers - General Pop)\n",
       "0                9.590799       3.385297                             -6.205502\n",
       "1               16.372924      49.402615                             33.029691\n",
       "2               12.949653      13.078948                              0.129295\n",
       "3               11.839894       2.015512                             -9.824382\n",
       "4                8.399954       1.009167                             -7.390787\n",
       "5               16.381196      19.292030                              2.910835\n",
       "6               13.356585      10.635070                             -2.721516\n",
       "7               11.108994       1.181361                             -9.927634"
      ]
     },
     "metadata": {},
     "output_type": "display_data"
    }
   ],
   "source": [
    "# # Display the cluster comparison DataFrame\n",
    "print(\"✅ Cluster proportions computed and displayed:\")\n",
    "display(cluster_comparison)\n"
   ]
  },
  {
   "cell_type": "code",
   "execution_count": 87,
   "metadata": {},
   "outputs": [
    {
     "name": "stdout",
     "output_type": "stream",
     "text": [
      "✅ Cluster comparison saved as 'cluster_comparison.csv'.\n"
     ]
    }
   ],
   "source": [
    "cluster_comparison.to_csv(\"cluster_comparison.csv\", index=True)\n",
    "print(\"✅ Cluster comparison saved as 'cluster_comparison.csv'.\")\n"
   ]
  },
  {
   "cell_type": "code",
   "execution_count": 88,
   "metadata": {},
   "outputs": [
    {
     "name": "stdout",
     "output_type": "stream",
     "text": [
      "✅ Overrepresented Clusters (Most Frequent in Customers):\n"
     ]
    },
    {
     "data": {
      "text/html": [
       "<div>\n",
       "<style scoped>\n",
       "    .dataframe tbody tr th:only-of-type {\n",
       "        vertical-align: middle;\n",
       "    }\n",
       "\n",
       "    .dataframe tbody tr th {\n",
       "        vertical-align: top;\n",
       "    }\n",
       "\n",
       "    .dataframe thead th {\n",
       "        text-align: right;\n",
       "    }\n",
       "</style>\n",
       "<table border=\"1\" class=\"dataframe\">\n",
       "  <thead>\n",
       "    <tr style=\"text-align: right;\">\n",
       "      <th></th>\n",
       "      <th>General Population (%)</th>\n",
       "      <th>Customers (%)</th>\n",
       "      <th>Difference (Customers - General Pop)</th>\n",
       "    </tr>\n",
       "  </thead>\n",
       "  <tbody>\n",
       "    <tr>\n",
       "      <th>1</th>\n",
       "      <td>16.372924</td>\n",
       "      <td>49.402615</td>\n",
       "      <td>33.029691</td>\n",
       "    </tr>\n",
       "    <tr>\n",
       "      <th>5</th>\n",
       "      <td>16.381196</td>\n",
       "      <td>19.292030</td>\n",
       "      <td>2.910835</td>\n",
       "    </tr>\n",
       "    <tr>\n",
       "      <th>2</th>\n",
       "      <td>12.949653</td>\n",
       "      <td>13.078948</td>\n",
       "      <td>0.129295</td>\n",
       "    </tr>\n",
       "    <tr>\n",
       "      <th>6</th>\n",
       "      <td>13.356585</td>\n",
       "      <td>10.635070</td>\n",
       "      <td>-2.721516</td>\n",
       "    </tr>\n",
       "    <tr>\n",
       "      <th>0</th>\n",
       "      <td>9.590799</td>\n",
       "      <td>3.385297</td>\n",
       "      <td>-6.205502</td>\n",
       "    </tr>\n",
       "  </tbody>\n",
       "</table>\n",
       "</div>"
      ],
      "text/plain": [
       "   General Population (%)  Customers (%)  Difference (Customers - General Pop)\n",
       "1               16.372924      49.402615                             33.029691\n",
       "5               16.381196      19.292030                              2.910835\n",
       "2               12.949653      13.078948                              0.129295\n",
       "6               13.356585      10.635070                             -2.721516\n",
       "0                9.590799       3.385297                             -6.205502"
      ]
     },
     "metadata": {},
     "output_type": "display_data"
    }
   ],
   "source": [
    "# What kinds of people are part of a cluster that is overrepresented in the\n",
    "# customer data compared to the general population?\n",
    "\n",
    "# Compute cluster proportions for general population\n",
    "gen_pop_cluster_counts = gen_pop_data_pca[\"Cluster\"].value_counts(normalize=True) * 100\n",
    "\n",
    "# Compute cluster proportions for customer data\n",
    "customer_cluster_counts = customers_pca_df[\"Cluster\"].value_counts(normalize=True) * 100\n",
    "\n",
    "# Combine data for comparison\n",
    "cluster_comparison = pd.DataFrame({\n",
    "    \"General Population (%)\": gen_pop_cluster_counts,\n",
    "    \"Customers (%)\": customer_cluster_counts\n",
    "}).fillna(0)\n",
    "\n",
    "# Compute the difference in representation\n",
    "cluster_comparison[\"Difference (Customers - General Pop)\"] = (\n",
    "    cluster_comparison[\"Customers (%)\"] - cluster_comparison[\"General Population (%)\"]\n",
    ")\n",
    "\n",
    "# Sort by highest positive difference (overrepresented clusters)\n",
    "overrepresented_clusters = cluster_comparison.sort_values(by=\"Difference (Customers - General Pop)\", ascending=False)\n",
    "\n",
    "# Display top overrepresented clusters\n",
    "print(\"✅ Overrepresented Clusters (Most Frequent in Customers):\")\n",
    "display(overrepresented_clusters.head())"
   ]
  },
  {
   "cell_type": "code",
   "execution_count": 89,
   "metadata": {},
   "outputs": [
    {
     "name": "stdout",
     "output_type": "stream",
     "text": [
      "✅ Underrepresented Clusters (Least Frequent in Customers):\n"
     ]
    },
    {
     "data": {
      "text/html": [
       "<div>\n",
       "<style scoped>\n",
       "    .dataframe tbody tr th:only-of-type {\n",
       "        vertical-align: middle;\n",
       "    }\n",
       "\n",
       "    .dataframe tbody tr th {\n",
       "        vertical-align: top;\n",
       "    }\n",
       "\n",
       "    .dataframe thead th {\n",
       "        text-align: right;\n",
       "    }\n",
       "</style>\n",
       "<table border=\"1\" class=\"dataframe\">\n",
       "  <thead>\n",
       "    <tr style=\"text-align: right;\">\n",
       "      <th></th>\n",
       "      <th>General Population (%)</th>\n",
       "      <th>Customers (%)</th>\n",
       "      <th>Difference (Customers - General Pop)</th>\n",
       "    </tr>\n",
       "  </thead>\n",
       "  <tbody>\n",
       "    <tr>\n",
       "      <th>7</th>\n",
       "      <td>11.108994</td>\n",
       "      <td>1.181361</td>\n",
       "      <td>-9.927634</td>\n",
       "    </tr>\n",
       "    <tr>\n",
       "      <th>3</th>\n",
       "      <td>11.839894</td>\n",
       "      <td>2.015512</td>\n",
       "      <td>-9.824382</td>\n",
       "    </tr>\n",
       "    <tr>\n",
       "      <th>4</th>\n",
       "      <td>8.399954</td>\n",
       "      <td>1.009167</td>\n",
       "      <td>-7.390787</td>\n",
       "    </tr>\n",
       "    <tr>\n",
       "      <th>0</th>\n",
       "      <td>9.590799</td>\n",
       "      <td>3.385297</td>\n",
       "      <td>-6.205502</td>\n",
       "    </tr>\n",
       "    <tr>\n",
       "      <th>6</th>\n",
       "      <td>13.356585</td>\n",
       "      <td>10.635070</td>\n",
       "      <td>-2.721516</td>\n",
       "    </tr>\n",
       "  </tbody>\n",
       "</table>\n",
       "</div>"
      ],
      "text/plain": [
       "   General Population (%)  Customers (%)  Difference (Customers - General Pop)\n",
       "7               11.108994       1.181361                             -9.927634\n",
       "3               11.839894       2.015512                             -9.824382\n",
       "4                8.399954       1.009167                             -7.390787\n",
       "0                9.590799       3.385297                             -6.205502\n",
       "6               13.356585      10.635070                             -2.721516"
      ]
     },
     "metadata": {},
     "output_type": "display_data"
    }
   ],
   "source": [
    "# What kinds of people are part of a cluster that is underrepresented in the\n",
    "# customer data compared to the general population?\n",
    "\n",
    "# Sort clusters by lowest difference (underrepresented clusters)\n",
    "underrepresented_clusters = cluster_comparison.sort_values(by=\"Difference (Customers - General Pop)\", ascending=True)\n",
    "\n",
    "# Display top underrepresented clusters\n",
    "print(\"✅ Underrepresented Clusters (Least Frequent in Customers):\")\n",
    "display(underrepresented_clusters.head())\n"
   ]
  },
  {
   "cell_type": "markdown",
   "metadata": {},
   "source": [
    "### Discussion 3.3: Compare Customer Data to Demographics Data\n",
    "\n",
    "Comparing clusters between the general population and the customer dataset, we identified segments for the mail-order company:\n",
    "\n",
    "- Overrepresented (popular): Example. Urban, high-income individuals\n",
    "- underrepresented (unpopular): Example. Rural & suburban dwellers \n"
   ]
  },
  {
   "cell_type": "markdown",
   "metadata": {},
   "source": [
    "> Congratulations on making it this far in the project! Before you finish, make sure to check through the entire notebook from top to bottom to make sure that your analysis follows a logical flow and all of your findings are documented in **Discussion** cells. Once you've checked over all of your work, you should export the notebook as an HTML document to submit for evaluation. You can do this from the menu, navigating to **File -> Download as -> HTML (.html)**. You will submit both that document and this notebook for your project submission."
   ]
  },
  {
   "cell_type": "code",
   "execution_count": 90,
   "metadata": {},
   "outputs": [
    {
     "name": "stdout",
     "output_type": "stream",
     "text": [
      "✅ Processed datasets saved.\n"
     ]
    }
   ],
   "source": [
    "# Save cleaned datasets\n",
    "gen_pop_data_pca.to_csv(\"gen_pop_data_pca.csv\", index=False)\n",
    "customers_pca_df.to_csv(\"customers_pca_df.csv\", index=False)\n",
    "\n",
    "print(\"✅ Processed datasets saved.\")\n"
   ]
  },
  {
   "cell_type": "code",
   "execution_count": 91,
   "metadata": {},
   "outputs": [
    {
     "name": "stdout",
     "output_type": "stream",
     "text": [
      "✅ All models saved successfully.\n"
     ]
    }
   ],
   "source": [
    "import pickle\n",
    "\n",
    "# Save the imputer\n",
    "with open(\"imputer.pkl\", \"wb\") as f:\n",
    "    pickle.dump(imputer, f)\n",
    "\n",
    "# Save the scaler\n",
    "with open(\"scaler.pkl\", \"wb\") as f:\n",
    "    pickle.dump(scaler, f)\n",
    "\n",
    "# Save the PCA model\n",
    "with open(\"pca_model.pkl\", \"wb\") as f:\n",
    "    pickle.dump(pca_final, f)\n",
    "\n",
    "# Save the trained K-Means model\n",
    "with open(\"kmeans_model.pkl\", \"wb\") as f:\n",
    "    pickle.dump(kmeans_final, f)\n",
    "\n",
    "print(\"✅ All models saved successfully.\")\n"
   ]
  },
  {
   "cell_type": "code",
   "execution_count": null,
   "metadata": {},
   "outputs": [],
   "source": []
  }
 ],
 "metadata": {
  "kernelspec": {
   "display_name": "Python 3",
   "language": "python",
   "name": "python3"
  },
  "language_info": {
   "codemirror_mode": {
    "name": "ipython",
    "version": 3
   },
   "file_extension": ".py",
   "mimetype": "text/x-python",
   "name": "python",
   "nbconvert_exporter": "python",
   "pygments_lexer": "ipython3",
   "version": "3.6.3"
  }
 },
 "nbformat": 4,
 "nbformat_minor": 2
}
